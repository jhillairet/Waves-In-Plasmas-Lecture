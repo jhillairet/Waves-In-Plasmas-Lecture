{
 "cells": [
  {
   "cell_type": "markdown",
   "id": "b746566c",
   "metadata": {
    "slideshow": {
     "slide_type": "slide"
    }
   },
   "source": [
    "# Waves in Cold Plasma"
   ]
  },
  {
   "cell_type": "markdown",
   "id": "8e36aa92",
   "metadata": {
    "slideshow": {
     "slide_type": "subslide"
    }
   },
   "source": [
    "## Reminder: Fluid Equations\n",
    "\n",
    "### Density Conservation\n",
    "$$\n",
    "\\frac{\\partial n_s}{\\partial t} + \\nabla \\cdot (n_s \\underline{V_s}) = 0\n",
    "$$\n",
    "\n",
    "### Momentum Conservation\n",
    "$$\n",
    "n_s m_s \\left(\n",
    "\\frac{\\partial \\underline{V_s}}{\\partial t} + (\\underline{V}_s\\cdot\\nabla)\\underline{V_s}\n",
    "\\right)\n",
    "=\n",
    "n_s q_s (\\underline{E} + \\underline{V_s} \\times \\underline{B})\n",
    "- \\nabla \\cdot \\underline{\\underline{\\Phi_s}}\n",
    "$$"
   ]
  },
  {
   "cell_type": "markdown",
   "id": "13ea2568",
   "metadata": {
    "slideshow": {
     "slide_type": "subslide"
    }
   },
   "source": [
    "### Assumptions\n",
    "__Goal:__ find a relationship between $\\underline{J}$ and $\\underline{E}$."
   ]
  },
  {
   "cell_type": "markdown",
   "id": "c02636f4",
   "metadata": {
    "slideshow": {
     "slide_type": "fragment"
    }
   },
   "source": [
    "__Hypothesis:__ \n",
    "\n",
    "* We can linearize equations as $a = a_0 + \\delta \\tilde{a}$\n",
    "* Fluid is immobile: $\\underline{v_0} = \\underline{0}$ -->$ \\underline{v} = \\delta \\underline{\\tilde{v_s}}$\n",
    "* No static electric field: $\\underline{\\underline{E_{0}}}=\\underline{0}$ --> $\\underline{E}=\\delta\\underline{\\tilde{E}}$\n",
    "* Cold plasma: $\\underline{\\underline{\\Phi}}=\\underline{\\underline{0}}$\n",
    "* Oscillating solutions $e^{i \\underline{k}\\cdot\\underline{r} - i \\omega t}$"
   ]
  },
  {
   "cell_type": "markdown",
   "id": "99f51943",
   "metadata": {
    "slideshow": {
     "slide_type": "subslide"
    }
   },
   "source": [
    "The density and momentum conservation equations lead to:"
   ]
  },
  {
   "cell_type": "markdown",
   "id": "a51ec47b",
   "metadata": {
    "slideshow": {
     "slide_type": "fragment"
    }
   },
   "source": [
    "$$ \\tilde{n}_s = \\frac{\\underline{k}\\cdot \\underline{\\tilde{V_s}}}{\\omega} n_{0s}$$\n",
    "\n",
    "$$\n",
    "\\underline{\\tilde{V_s}} \n",
    "= \n",
    "\\frac{i q_s}{\\omega m_s}\n",
    "\\left(\n",
    "    \\underline{\\tilde{E}}(\\underline{k},\\omega) + \\underline{\\tilde{v_s}} \\times \\underline{B_{0s}}\n",
    "\\right)\n",
    "$$"
   ]
  },
  {
   "cell_type": "markdown",
   "id": "92c3e01b",
   "metadata": {
    "slideshow": {
     "slide_type": "subslide"
    }
   },
   "source": [
    "### Stix Frame\n",
    "At this point we need to specify a spatial frame of reference. Let's use the so-called *Stix frame*.\n",
    "\n",
    "* Assuming a cartesian frame with $\\underline{B_0} = B_0 \\underline{z}$"
   ]
  },
  {
   "cell_type": "markdown",
   "id": "af924bd6",
   "metadata": {
    "slideshow": {
     "slide_type": "fragment"
    }
   },
   "source": [
    "leads to:\n",
    "$$\n",
    "\\underline{\\tilde{V_s}} = \n",
    "\\underline{\\underline{\\mu_s}}\n",
    "\\cdot\n",
    "\\underline{\\tilde{E}}\n",
    "$$\n",
    "with $\\underline{\\underline{\\mu_s}}$ the *mobility tensor*. So the perturbated current is\n",
    "$$\n",
    "\\underline{\\tilde{J}} = \\sum_s n_{0s} q_s \\underline{\\tilde{V_s}}\n",
    "= \\underline{\\underline{\\sigma}}\\cdot  \\underline{\\tilde{E}}\n",
    "$$\n",
    "with\n",
    "$$\n",
    "\\underline{\\underline{\\sigma}}\n",
    "=\n",
    "i \\frac{\\varepsilon_0}{\\omega} \\sum_s \\omega_{ps}^2 \\underline{\\underline{\\mu_s}}\n",
    "$$"
   ]
  },
  {
   "cell_type": "markdown",
   "id": "fe3717de",
   "metadata": {
    "slideshow": {
     "slide_type": "subslide"
    }
   },
   "source": [
    "Reminder: \n",
    "$$\n",
    "\\underline{\\underline{\\varepsilon}} \n",
    "= \\varepsilon_0 \\underline{\\underline{K}} \n",
    "= \\varepsilon_0 \\left(\\underline{\\underline{I}} + \\frac{i}{\\omega \\varepsilon_0} \\underline{\\underline{\\sigma}}\\right) \n",
    "$$\n",
    "with the traditionnal notation (*Stix tensor*):\n",
    "$$\n",
    "\\underline{\\underline{K}} \n",
    "= \n",
    "\\left(\n",
    "\\begin{matrix}\n",
    "S & -iD & 0 \\\\\n",
    "iD & S & 0 \\\\\n",
    "0 & 0 & P\n",
    "\\end{matrix}\n",
    "\\right)\n",
    "$$\n",
    "with\n",
    "$$\n",
    "S = 1 - \\sum_s \\frac{\\omega_{ps}^2}{\\omega^2 - \\Omega_{s}^2}\n",
    "$$\n",
    "$$\n",
    "D = \\sum_s \\frac{\\omega_{ps}^2}{\\omega} \\frac{\\Omega_s}{\\omega^2 - \\Omega_{s}^2}\n",
    "$$\n",
    "$$\n",
    "P = 1 - \\sum_s \\frac{\\omega_{ps}^2}{\\omega^2}\n",
    "$$\n"
   ]
  },
  {
   "cell_type": "markdown",
   "id": "fc2f2832",
   "metadata": {
    "slideshow": {
     "slide_type": "slide"
    }
   },
   "source": [
    "## Magnetized Cold Plasma Dispersion Relation\n",
    "__Reminder:__ the wave equation in the $k-\\omega$ domain was expressed for an homogeneous plasma as:\n",
    "$$\n",
    "\\underline{\\underline{M}} \\cdot \\underline{E} = \\underline{0}\n",
    "$$\n",
    "with \n",
    "$$\n",
    "\\underline{\\underline{M}} = \\underline{k} \\times \\underline{k} \\times + \\frac{\\omega^2}{c^2} \\underline{\\underline{K}}\n",
    "$$\n",
    "The non trivial solution of the previous equation is obtained for $\\det\\underline{\\underline{M}}=0$ which can be solved for $\\omega(\\underline{k})$, the *dispersion relation*.\n",
    "\n",
    "Using $\\underline{n}=\\underline{k}/k_0=\\underline{k}/(\\omega/c)$, it can be expressed as:\n",
    "$$\n",
    "A n^4 - B n^2 + C = 0\n",
    "$$\n",
    "\n",
    "* If $A,B,C$ does not depend on $n$ (no space dispersion, i.e. cold plasma), it is a quadratic equation in $n^2$ \n",
    "    * --> At most 2 solutions, or two *modes*\n",
    "* After solving for a given mode $n_{\\mathrm{mode}}=n_{\\mathrm{mode}} (\\underline{k}, \\omega)$, injecting this solution back into the wave equation leads to the non trivial solution of $\\underline{E}$ and to its *polarization*.  \n",
    "\n",
    "* Solving the general equation is generally complicated and we will look only to special cases"
   ]
  },
  {
   "cell_type": "markdown",
   "id": "fd4d9563",
   "metadata": {
    "slideshow": {
     "slide_type": "slide"
    }
   },
   "source": [
    "## Cold Unmagnetized Plasma\n",
    "__Hypothesis:__\n",
    "\n",
    "* no background magnetic field ($B_0=0$)\n",
    "* infinite and homoegeneous plasma\n",
    "* immovable ions (only electrons to move)\n",
    "* no fluid flow at equilibrium\n"
   ]
  },
  {
   "cell_type": "markdown",
   "id": "d45c8c47",
   "metadata": {
    "slideshow": {
     "slide_type": "fragment"
    }
   },
   "source": [
    "Which leads to two dispersion relations:\n",
    "\n",
    "1. Transverse waves ($E_z=0$): \"photons\" or \"light\" wave: \n",
    "$$\n",
    "\\omega^{2} = \\sum_s \\omega _{ps}^{2}+k^{2}c^{2}\n",
    "$$"
   ]
  },
  {
   "cell_type": "markdown",
   "id": "14ffb972",
   "metadata": {
    "slideshow": {
     "slide_type": "subslide"
    }
   },
   "source": [
    "NB : $\\sum_s \\omega _{ps}^{2} \\approx \\omega _{pe}^{2}$"
   ]
  },
  {
   "cell_type": "code",
   "execution_count": null,
   "id": "6aa6514f",
   "metadata": {
    "slideshow": {
     "slide_type": "fragment"
    }
   },
   "outputs": [],
   "source": [
    "import plasmapy as pp; import numpy as np; import astropy.units as u ; import matplotlib.pyplot as plt\n",
    "ne = np.logspace(10, 20, 100) / u.m**3\n",
    "fig, ax = plt.subplots()\n",
    "ax.loglog(ne, pp.formulary.frequencies.plasma_frequency(n=ne, particle='e-'), label='$\\omega_{pe}$')\n",
    "ax.loglog(ne, pp.formulary.frequencies.plasma_frequency(n=ne, particle='D+'), label='$\\omega_{pi}$')\n",
    "ax.legend(); ax.set_xlabel('n_e'); ax.set_ylabel('$\\omega_p$')"
   ]
  },
  {
   "cell_type": "markdown",
   "id": "4010c322",
   "metadata": {
    "slideshow": {
     "slide_type": "subslide"
    }
   },
   "source": [
    "### Numerical Application: Ionospheric Plasma"
   ]
  },
  {
   "cell_type": "code",
   "execution_count": null,
   "id": "2579b54e",
   "metadata": {
    "slideshow": {
     "slide_type": "-"
    }
   },
   "outputs": [],
   "source": [
    "from scipy.constants import c\n",
    "ne = 1e11 / u.m**3\n",
    "f = np.logspace(5, 7, 1000)\n",
    "omega = 2*np.pi*f\n",
    "omega_pe = pp.formulary.frequencies.plasma_frequency(n=ne, particle='e-')\n",
    "k = 1/c * np.sqrt(omega**2 - omega_pe.value**2, dtype='complex')"
   ]
  },
  {
   "cell_type": "code",
   "execution_count": null,
   "id": "0f3fcb69",
   "metadata": {
    "slideshow": {
     "slide_type": "subslide"
    }
   },
   "outputs": [],
   "source": [
    "fig, ax = plt.subplots()\n",
    "ax.semilogx(f, k.real, lw=2); ax.set_ylabel('$\\Re(k)$ [1/m]');\n",
    "ax2 = ax.twinx(); ax.grid(True, which='both')\n",
    "ax2.semilogx(f, k.imag, color='C1', lw=2);\n",
    "ax.set_xlabel('f [Hz]'); ax2.set_ylabel('$\\Im(k)$ [1/m]');\n",
    "ax.yaxis.label.set_color('C0'); ax2.yaxis.label.set_color('C1')\n",
    "ax.spines[\"right\"].set_edgecolor('C0'); ax2.spines[\"right\"].set_edgecolor('C1')\n",
    "ax.tick_params(axis='y', colors='C0'); ax2.tick_params(axis='y', colors='C1')"
   ]
  },
  {
   "cell_type": "markdown",
   "id": "dc5a57af",
   "metadata": {
    "cell_style": "split",
    "slideshow": {
     "slide_type": "subslide"
    }
   },
   "source": [
    "### Cosmic gamma-ray bursts Impacting our Ionosphere\n",
    "* *Cosmic gamma-ray bursts* (GRBs) are bursts of energetic gamma radiation produced by the violent explosions of distant stars. \n",
    "* GRBs are interesting because of their effects on the Earth’s atmosphere and the near-Earth space environment.\n",
    "* The burst of gamma-rays from a GRB interacts with the upper atmosphere and lower ionosphere, depositing its energy and ionizing atoms and molecules.\n",
    "* This ionization is in addition to natural ionization due to ultraviolet light from the sun and cosmic rays and acts to change the conductivity of the upper atmosphere.\n",
    "* The change in conductivity is visible as a change in the way VLF radio waves reflect from the ionosphere\n",
    "<img src=\"figures/2022-10-09_Brightest_Gamma-Ray_Burst .gif\" width=\"200\"/>"
   ]
  },
  {
   "cell_type": "markdown",
   "id": "cd1d830e",
   "metadata": {
    "cell_style": "split",
    "slideshow": {
     "slide_type": "-"
    }
   },
   "source": [
    "* <a href=\"https://skyandtelescope.org/astronomy-news/brightest-gamma-ray-burst-yet-lit-up-the-sky/\">09/10/2022 GRB</a> (brightest detected so far) exploded in a galaxy about 2 billion light-years away, likely due to the collapse of a massive star, giving birth to a black hole:\n",
    "\n",
    "<img src=\"figures/2022-10-09_GRB-221009A-Afterglow-589x600.jpg\" width=\"200\" alt=\"GRB 221009A. Neil Gehrels Swift Observatory. The dark vertical line is an artifact that comes from a dead column of pixels in the camera. NASA / Swift / A. Beardmore (Univ. of Leicester)\" />\n",
    "\n",
    "* The intense burst disturbed Earth’s upper atmosphere where its high-energy photons ionized the ionosphere and modified its radio-propagation properties.\n",
    "\n",
    "<img src=\"figures/2022-10-09_GRB_effect.jpg\" alt=\"Indian Lightning Detection Network and The VLF-monitor at Todmorden (UK)\" width=\"600\"/>\n"
   ]
  },
  {
   "cell_type": "markdown",
   "id": "e140ea03",
   "metadata": {
    "slideshow": {
     "slide_type": "slide"
    }
   },
   "source": [
    "## Waves in Magnetized Cold Plasmas"
   ]
  },
  {
   "cell_type": "code",
   "execution_count": null,
   "id": "d9f6902f",
   "metadata": {},
   "outputs": [],
   "source": []
  }
 ],
 "metadata": {
  "celltoolbar": "Slideshow",
  "kernelspec": {
   "display_name": "Python 3 (ipykernel)",
   "language": "python",
   "name": "python3"
  },
  "language_info": {
   "codemirror_mode": {
    "name": "ipython",
    "version": 3
   },
   "file_extension": ".py",
   "mimetype": "text/x-python",
   "name": "python",
   "nbconvert_exporter": "python",
   "pygments_lexer": "ipython3",
   "version": "3.10.6"
  },
  "livereveal": {
   "autolaunch": true
  },
  "toc": {
   "base_numbering": 1,
   "nav_menu": {},
   "number_sections": true,
   "sideBar": true,
   "skip_h1_title": true,
   "title_cell": "Table of Contents",
   "title_sidebar": "Contents",
   "toc_cell": false,
   "toc_position": {
    "height": "calc(100% - 180px)",
    "left": "10px",
    "top": "150px",
    "width": "428.8px"
   },
   "toc_section_display": true,
   "toc_window_display": false
  }
 },
 "nbformat": 4,
 "nbformat_minor": 5
}
