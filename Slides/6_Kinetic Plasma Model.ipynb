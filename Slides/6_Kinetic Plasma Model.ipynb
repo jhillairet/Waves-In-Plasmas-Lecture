{
 "cells": [
  {
   "cell_type": "markdown",
   "id": "300196d7",
   "metadata": {
    "slideshow": {
     "slide_type": "slide"
    }
   },
   "source": [
    "# Kinetic Theory of Plasma Waves"
   ]
  },
  {
   "cell_type": "markdown",
   "id": "ce8544d5",
   "metadata": {
    "slideshow": {
     "slide_type": "slide"
    }
   },
   "source": [
    "## Summary of Previous Lectures\n",
    "* 2 main classes of models are available to describe the plasma response to the wave field: \n",
    "    * *fluid* models \n",
    "    * *kinetic* models\n",
    "* *Cold plasmas* are described by setting the temperature/pressure to 0 in the fluid equations"
   ]
  },
  {
   "cell_type": "markdown",
   "id": "9648f2e1",
   "metadata": {
    "slideshow": {
     "slide_type": "subslide"
    }
   },
   "source": [
    "* The wave equation and *dispersion relation* reveal 2 waves (or *modes*)\n",
    "    * *Whistler* modes propagate parallel to the magnetic field and resonate with electrons (R-whistler) or ions (L-whistler) \n",
    "    * *Ordinary* (O) and *eXtraordinary* (X) modes propagate perpendicularly the magnetic field\n",
    "* For arbitrary propagation angles with respect to the magnetic field, the dispersion relation cannot be solved analytically in most cases\n",
    "    * except by approximating the dielectric tensor elements\n",
    "        * One such approximation concerns the low frequency (MHD) domain, which yields two *Alfvèn* Waves: *torsional* (or *shear*) and *compressional*\n",
    "\n",
    "* Cold plasma models are very useful to describe the wave propagation\n",
    "    * but the models cannot describe the wave power absorption. \n",
    "    * It is possible to add collisions to the models and describe collisional absorptions\n",
    "    * but the collision frequency: \n",
    "        * is generally difficult to obtain rigourously\n",
    "        * does not allow to describe collision between ionized species (but OK for external species, like neutrals)\n",
    "    * In addition, the fluid model does not allow to describe effects for individual (kinetic) velocities"
   ]
  },
  {
   "cell_type": "markdown",
   "id": "1175d8fc",
   "metadata": {
    "slideshow": {
     "slide_type": "slide"
    }
   },
   "source": [
    "## Kinetic Model for a Magnetized Plasma\n",
    "### Vlasov-Maxwell Equations\n",
    "In a fully ionized plasma constituted of electrons and multiple species of ions, the distribution functions $f_s(\\underline{r}, \\underline{v}, t)$ obey the kinetic equations of the form:\n",
    "$$\n",
    "\\frac{d f_s}{d t}\n",
    "= \n",
    "\\frac{\\partial f_s}{\\partial t}\n",
    "+ \n",
    "\\underline{v}\\cdot \\underline{\\nabla f_s}\n",
    "+ \n",
    "\\frac{q_s Z_s}{m_s}\\left[\\underline{E} + \\underline{v}\\times\\underline{B} \\right]\\cdot\\frac{\\partial f_s}{\\partial \\underline{v}}\n",
    "= \\mathrm{Col}(f_s)\n",
    "$$\n",
    "where $\\mathrm{Col}(f_s)$ is a collision operator. Macroscopic charge and current densities are expressed as moments of the single-particule distribution functions $f_s$:\n",
    "$$\n",
    "\\rho(\\underline{r}, t) = \\sum_s q_s Z_s \\int d^3 v \\; f_s(\\underline{r}, \\underline{v}, t) \n",
    "$$\n",
    "$$\n",
    "\\underline{j}(\\underline{r}, t) = \\sum_s q_s Z_s \\int d^3 v \\; \\underline{v} f_s(\\underline{r}, \\underline{v}, t) \n",
    "$$\n",
    "\n",
    "* Neglecting the collision operator, the system is closed with Maxwell's equations\n",
    "* This set of equations forms the (collisionless) *Vlasov-Maxwell* equations. \n",
    "\n",
    "* Starting from Vlasov-Maxwell equations, both limitations of cold plasmas (no finite temperature effects) and fluid plasma (phase velocity $\\gg$ thermal velocity) may be removed.\n"
   ]
  },
  {
   "cell_type": "markdown",
   "id": "4366931b",
   "metadata": {
    "slideshow": {
     "slide_type": "subslide"
    }
   },
   "source": [
    "### Linearization of Vlasov-Maxwell Equations\n",
    "The previous system is non-linear by nature. In most practical situation, however, the field amplitude is sufficiently small to justify a linearization of the equations. We thus assume that:\n",
    "$$\n",
    "f_s (\\underline{r}, \\underline{v}, t) = f_{s0} + \\delta \\tilde{f_{s}}(\\underline{r}, \\underline{v}, t)\n",
    "$$\n",
    "where\n",
    "* $f_0$ is the distribution function in the absence of fields (slow temporal scale) and $\\tilde{f}$ (fast temporal scale) is linear in $\\underline{E}(\\underline{r},t)$. \n",
    "* We also assume that $\\underline{E}=\\delta \\underline{\\tilde{E}}$ and $\\underline{B}=\\underline{B_0}+\\delta\\underline{\\tilde{B}}$. \n",
    "* $\\underline{v}$ is an independant variable here, hence it is not linearized."
   ]
  },
  {
   "cell_type": "markdown",
   "id": "154c29a8",
   "metadata": {
    "slideshow": {
     "slide_type": "subslide"
    }
   },
   "source": [
    "At 0th order, we have:\n",
    "$$\n",
    "\\underline{v}\\cdot \\underline{\\nabla f_{0s}}\n",
    "+\n",
    "\\frac{q_s Z_s}{m_s} \\left( \\underline{v} \\times \\underline{B_0} \\right) \\cdot\\frac{\\partial f_{s0}}{\\partial \\underline{v}} = 0\n",
    "$$\n",
    "* NB: If the plasma is assumed homogeneous, the first term is zero. "
   ]
  },
  {
   "cell_type": "markdown",
   "id": "55d0c48e",
   "metadata": {
    "slideshow": {
     "slide_type": "fragment"
    }
   },
   "source": [
    "At 1st order we have:\n",
    "$$\n",
    "\\frac{\\partial \\tilde{f_s}}{\\partial t}\n",
    "+ \n",
    "\\underline{v}\\cdot \\underline{\\nabla \\tilde{f}_s}\n",
    "+ \n",
    "\\frac{q_s Z_s}{m_s} \\left( \\underline{v}\\times\\underline{B_0} \\right) \\cdot\\frac{\\partial \\tilde{f_s}}{\\partial \\underline{v}}\n",
    "=\n",
    "-\n",
    "\\frac{q_s Z_s}{m_s}\\left[\\underline{\\tilde{E}} + \\underline{v}\\times\\underline{\\tilde{B}} \\right]\\cdot\\frac{\\partial f_{s0}}{\\partial \\underline{v}}\n",
    "$$\n",
    "or, reexpressing it using the total (convective) derivative:\n",
    "$$\n",
    "\\frac{d \\tilde{f_s}}{d t}\n",
    "= \n",
    "-\n",
    "\\frac{q_s Z_s}{m_s}\\left[\\underline{\\tilde{E}} + \\underline{v}\\times\\underline{\\tilde{B}} \\right]\\cdot\\frac{\\partial f_{s0}}{\\partial \\underline{v}}\n",
    "$$\n",
    "which has to be integrated."
   ]
  },
  {
   "cell_type": "markdown",
   "id": "7dc4dd19",
   "metadata": {
    "slideshow": {
     "slide_type": "subslide"
    }
   },
   "source": [
    "Formally, we have:\n",
    "$$\n",
    "\\tilde{f_s} (\\underline{r}, \\underline{v}, t) = \n",
    "-\\frac{q_s Z_s}{m_s}\n",
    "\\int_{-\\infty}^t\n",
    "dt' \\; \n",
    "\\left[\\underline{\\tilde{E}}(\\underline{r}', t') + \\underline{v'}\\times\\underline{\\tilde{B}}(\\underline{r}', t') \\right]\\cdot\\frac{\\partial f_{s0}}{\\partial \\underline{v'}}\n",
    "$$\n",
    "where we have $\\underline{r'}(t=t')=\\underline{r}$ and $\\underline{v'}(t=t')=\\underline{v}$.\n",
    "\n",
    "$\\underline{r'}$ and $\\underline{v'}$ are the solution of the *unperturbated* equations of motion (due to the linearization) of a particle reaching point $(\\underline{r}, \\underline{v})$ at $t'=t$, i.e.:\n",
    "$$ \n",
    "\\frac{d \\underline{r'}}{dt'} = \\underline{v'} \n",
    "\\;\\;\\;\\;\\;\\;\n",
    "\\frac{d \\underline{v'}}{dt'} = \\frac{q_s Z_s}{m_s} \\left( \\underline{v'} \\times \\underline{B_0} \\right) \n",
    "$$\n",
    "\n",
    "So, the perturbated distribution function $\\tilde{f_s}$ is integrated in time where the integration is performed along $(\\underline{r'}, \\underline{v'}, t'<t)$."
   ]
  },
  {
   "cell_type": "markdown",
   "id": "7050bfa7",
   "metadata": {
    "slideshow": {
     "slide_type": "fragment"
    }
   },
   "source": [
    "* This assumes that the wave has been 'switched on' sometime in the past, such that $E,B\\to 0$ at $t\\to-\\infty$.\n",
    "* In addition, we assume that the wave is time-harmonic, meaning that $E,B \\propto e^{i(\\underline{k}\\cdot\\underline{r}-\\omega t)}$. Hence, for the integral to converge at $t\\to-\\infty$, this imposes:\n",
    "$$\n",
    "\\Im(w) > 0\n",
    "$$"
   ]
  },
  {
   "cell_type": "markdown",
   "id": "d5cb6cb6",
   "metadata": {
    "slideshow": {
     "slide_type": "subslide"
    }
   },
   "source": [
    "Using time-harmonic plane-wave expansions for the field and the distribution functions and replacing $\\tilde{B}$ from Maxwell's equations reads to:\n",
    "$$\n",
    "\\tilde{f_s} (\\underline{k}, \\underline{v}, \\omega) = \n",
    "-\\frac{q_s Z_s}{m_s}\n",
    "\\int_{-\\infty}^t\n",
    "dt' \\; \n",
    "e^{-i(\\underline{k}\\cdot(\\underline{r} - \\underline{r'}) - \\omega(t - t'))}\n",
    "\\left[\n",
    "\\underline{\\tilde{E}}(\\underline{k}, \\omega) \n",
    "- \n",
    "\\underline{v'}\\times(\\underline{k}\\times\\underline{\\tilde{E}}(\\underline{k}, \\omega)/\\omega) \\right]\n",
    "\\cdot\\frac{\\partial f_{s0}}{\\partial \\underline{v'}}\n",
    "$$"
   ]
  },
  {
   "cell_type": "markdown",
   "id": "3bfbda64",
   "metadata": {
    "slideshow": {
     "slide_type": "fragment"
    }
   },
   "source": [
    "Finally, manipulating the vectors relations to factorize out $\\tilde{E}$ and substituting this into the definition of the current density $\\underline{J}$ and comparing to the definition of the conductivity and dielectric tensors:\n",
    "$$\n",
    "\\underline{J}(\\underline{k},\\omega) = \\underline{\\underline{\\sigma}}(\\underline{k},\\omega)  \\cdot \\underline{E}(\\underline{k},\\omega) \n",
    "$$\n",
    "\n",
    "$$\n",
    "\\underline{\\underline{\\varepsilon_r}} (\\underline{k},\\omega)\n",
    "= \\varepsilon_0 \\underline{\\underline{K}}\n",
    "=\n",
    "\\varepsilon_0  \\left(\n",
    "\\underline{\\underline{1}}\n",
    "+\n",
    "\\frac{i}{\\omega \\varepsilon_0}  \n",
    "\\underline{\\underline{\\sigma}}(\\underline{k},\\omega)\n",
    "\\right)\n",
    "$$"
   ]
  },
  {
   "cell_type": "markdown",
   "id": "237313aa",
   "metadata": {
    "slideshow": {
     "slide_type": "fragment"
    }
   },
   "source": [
    "one obtains the hot dielectric tensor:\n",
    "$$\n",
    "\\underline{\\underline{\\varepsilon_r}} (\\underline{k},\\omega)/\\varepsilon_0\n",
    "=\n",
    "\\underline{\\underline{I}}\n",
    "+ \n",
    "\\sum_s\n",
    "\\frac{\\omega_{ps}^2}{\\omega^2 n_{s0}}\n",
    "\\int d^3v \\; v_i \n",
    "\\left[ \n",
    "    -i\\omega \\int_{-\\infty}^t dt' \\;\n",
    "    e^{-i(\\underline{k}\\cdot(\\underline{r} - \\underline{r'}) - \\omega(t - t'))}\n",
    "    \\left(    \n",
    "        \\left( \n",
    "            1 - \\frac{\\underline{k}\\cdot\\underline{v'}}{\\omega} \n",
    "        \\right)\n",
    "        \\underline{\\underline{I}}\n",
    "        + \n",
    "        \\frac{\\underline{k}\\underline{v'} }{\\omega}\n",
    "    \\right)\n",
    "    \\cdot \n",
    "    \\frac{\\partial f_{s0}}{\\partial \\underline{v'}}\n",
    "\\right]\n",
    "$$\n",
    "with $\\omega_{ps}^2=\\frac{q_s^2 Z_s^2 n_{s0}}{m_s}$ the plasma frequency for species $s$.\n",
    "\n",
    "To proceed further, it is necessary to define a reference frame and an equilibrium distribution function."
   ]
  },
  {
   "cell_type": "markdown",
   "id": "7c1b03c7",
   "metadata": {
    "slideshow": {
     "slide_type": "subslide"
    }
   },
   "source": [
    "We will skip the details to keep only the main results:\n",
    "\n",
    "* Because of the confining magnetic field $B_0$, it is convenient to choose a cylindrical frame and to express the problem in cylindrical coordinates, where we have: $v_\\perp ' = v_\\perp$ and $v_\\parallel ' = v_\\parallel$.\n",
    "* Assuming a small positive imaginary part of $\\omega$ (will be justified in next section)  \n",
    "* Using a Maxwellian as equilibrium distribution function leads to:\n",
    "$$\n",
    "K_{ij}\n",
    "=\n",
    "\\delta_{ij} + \\sum_s \\frac{\\omega^2_{ps}}{\\omega^2} \\frac{1}{k_\\parallel v_{th,s}} e^{-\\lambda_s}\n",
    "\\sum_{n=-\\infty}^{+\\infty} T_{n,ij}\n",
    "$$\n",
    "with $\\underline{\\underline{T}}$ a full tensor depending on Bessel functions and the complex function $Z$ (known as the *[plasma dispersion function](https://docs.plasmapy.org/en/latest/api/plasmapy.dispersion.dispersionfunction.plasma_dispersion_func.html)*, which is a well-tabulated function) and its derivatives:\n",
    "$$\n",
    "Z(\\zeta) = \\frac{1}{\\sqrt{\\pi}} \\int_{-\\infty}^{+\\infty}\n",
    "\\frac{e^{-x^2}}{x-\\zeta} dx\n",
    "$$\n",
    "and\n",
    "$$\n",
    "\\lambda_s = \\frac{k_\\perp^2 v_{th,s}^2}{2\\Omega_s^2}\n",
    "$$\n",
    "$$\n",
    "v_{th,s} = \\sqrt{\\frac{2 k_B T_s}{m_s}}\n",
    "$$\n",
    "For the complete details of the derivation, see for instance references [[Dumont](https://hal-cea.archives-ouvertes.fr/cel-01463091), Swanson, Brambilla].\n",
    "\n",
    "To get some physical insights, let's now consider a simpler case."
   ]
  },
  {
   "cell_type": "markdown",
   "id": "ba9acc5e",
   "metadata": {
    "slideshow": {
     "slide_type": "slide"
    }
   },
   "source": [
    "## 1D Unmagnetized Plasma, Electrostatic Case\n",
    "### Dispersion Relation - The Vlasov Approach\n",
    "Assume an unmagnetized plasma in 1D, under an oscillating electrostatic field:\n",
    "* $B_0 = 0$\n",
    "* $\\underline{k} = k \\underline{\\hat{x}}$\n",
    "* $v_x = v$\n",
    "* $f_s(x,v,t) =  f_{s0} + \\delta \\tilde{f_s}$ with $f_{s0} = \\iint f_{s0}(\\underline{v}) dv_y dv_z$ and $\\int \\hat{f}_{s0}=1/n_s$\n",
    "* $\\underline{E}(x,t) = \\delta E(x,t) \\underline{x}$"
   ]
  },
  {
   "cell_type": "markdown",
   "id": "4aa194d7",
   "metadata": {
    "slideshow": {
     "slide_type": "subslide"
    }
   },
   "source": [
    "Linearizing the Vlasov equation and assuming oscillatory solutions, leads to 1st order to:\n",
    "$$\n",
    "\\tilde{f_s}(v,k,\\omega) = -i \\frac{q_s Z_s}{m_s} \\frac{\\frac{\\partial f_{s0} }{\\partial v}}{\\omega - k v} \\tilde{E}(k,\\omega)\n",
    "$$"
   ]
  },
  {
   "cell_type": "markdown",
   "id": "1e72e484",
   "metadata": {
    "slideshow": {
     "slide_type": "fragment"
    }
   },
   "source": [
    "From Maxwell-Gauss ($i k E = \\rho/\\varepsilon_0 = \\sum_s q_s Z_s n_s / \\varepsilon_0$) we deduce:\n",
    "$$\n",
    "\\left(k^2 + \\sum_s \\frac{q_s^2 Z_s^2}{m_s \\varepsilon_0} \\int dv \\; \\frac{\\frac{\\partial f_{s0} }{\\partial v}}{\\omega - kv}\\right) \\tilde{E}(k,\\omega) = 0\n",
    "$$"
   ]
  },
  {
   "cell_type": "markdown",
   "id": "6437199f",
   "metadata": {
    "slideshow": {
     "slide_type": "fragment"
    }
   },
   "source": [
    "Solving for the first term corresponds to the dispersion relation for electrostatic waves in an unmagnetized plasma:\n",
    "$$\n",
    "1 \n",
    "- \\sum_s \\frac{\\omega_{ps}^2}{k^2} \\int dv \\; \\frac{\\frac{\\partial \\bar{f}_{s0} }{\\partial v}}{v - \\omega/k } = 0\n",
    "$$\n",
    "* here we used the normalization $\\int dv \\bar{f}_{s0}=1/n_s$ to make appear the plasma frequency\n",
    "* NB: remember that in the same configuration, cold plasma dispersion relation led to $\\omega^2 = \\sum_s \\omega_{ps}^2$."
   ]
  },
  {
   "cell_type": "markdown",
   "id": "c4c711b0",
   "metadata": {
    "slideshow": {
     "slide_type": "subslide"
    }
   },
   "source": [
    "The integral:\n",
    "$$\n",
    " \\int_{-\\infty}^{+\\infty} dv \\; \\frac{\\frac{\\partial \\bar{f}_{s0} }{\\partial v}}{v - \\omega/k }\n",
    " $$\n",
    "presents a singularity for $v=\\omega/k$. \n",
    "\n",
    "* Hence, for the integral to exist, $\\omega$ should have an imaginary part (unless $\\partial f_{s0}/\\partial u = 0$)\n",
    "    * Otherwise the resulting function would be discontinuous when crossing the real axis\n",
    "* As a consequence, the dielectric function $\\varepsilon(k, ω)$ is complex. \n",
    "    * its imaginary part is related to dissipation\n",
    "    "
   ]
  },
  {
   "cell_type": "markdown",
   "id": "1daf1186",
   "metadata": {
    "slideshow": {
     "slide_type": "subslide"
    }
   },
   "source": [
    "* Anticipating that the distribution function could be related to a Maxwellian, we should inspect the integral of type:\n",
    "$$\n",
    "g(c) = \\int_{-\\infty}^{+\\infty} \\frac{e^{-u^2}}{u - c} \\; du\n",
    "$$\n",
    "with $c$ being a complex number.\n",
    "\n",
    "* The real axis is discontinuity of this integral\n",
    "    * One part of the plan has to be physically meaningful, and the other not. Which one? \n",
    "* And what if we don't know the distribution function? "
   ]
  },
  {
   "cell_type": "markdown",
   "id": "8498248d",
   "metadata": {
    "slideshow": {
     "slide_type": "subslide"
    }
   },
   "source": [
    "**Vlasov** tackled this problem by considering the principal value of the integral:\n",
    "$$\n",
    "\\mathcal{P}\n",
    "\\int_{-\\infty}^{+\\infty} dv \\; \\frac{\\frac{\\partial \\bar{f}_{s0} }{\\partial v}}{v - \\omega/k }\n",
    "=\n",
    "\\lim _{\\;\\varepsilon \\to 0^{+}\\;}\\,\n",
    "\\left[\n",
    "\\int_{-\\infty}^{\\omega/k-\\varepsilon} dv \\; \\frac{\\frac{\\partial \\bar{f}_{s0} }{\\partial v}}{v - \\omega/k }\n",
    " +\n",
    "\\int_{\\omega/k+\\varepsilon}^{+\\infty} dv \\; \\frac{\\frac{\\partial \\bar{f}_{s0} }{\\partial v}}{v - \\omega/k }\n",
    "\\right]\n",
    "$$\n",
    "where $\\mathcal{P}$ stands for the Cauchy Principal Value with the singularity $v=\\omega/k$:"
   ]
  },
  {
   "cell_type": "markdown",
   "id": "a94e6f39",
   "metadata": {
    "slideshow": {
     "slide_type": "fragment"
    }
   },
   "source": [
    "* This approach, however, leads to incoherent  mathematical result, like if one assume $\\Im(\\omega)>0$, the calculation will lead to $\\Im(\\omega)<0$ (and vice-versa)."
   ]
  },
  {
   "cell_type": "markdown",
   "id": "f35bb407",
   "metadata": {
    "slideshow": {
     "slide_type": "fragment"
    }
   },
   "source": [
    "* This problem has been solved by **Landau** in [1946](http://homepage.physics.uiowa.edu/~ghowes/teach/phys225/readings/Landau46.pdf) who shown that these incoherent results came from the use of the Fourier transform in time ($\\partial/\\partial t \\to -i\\omega$).\n",
    "\n",
    "* Landau [solved the problem](http://homepage.physics.uiowa.edu/~ghowes/teach/phys225/readings/Landau46.pdf) by treating it as an initial value problem, in which $\\tilde{f}$ is given at $t=0$ and found at later times.\n",
    "\n",
    "* This can be done using the Laplace transform (cf. [appendix](Appendix_Laplace_Transform.ipynb)) in time rather than the Fourier transform"
   ]
  },
  {
   "cell_type": "markdown",
   "id": "d718d51b",
   "metadata": {
    "slideshow": {
     "slide_type": "subslide"
    }
   },
   "source": [
    "### Dispersion Relation - The Landau Approach\n",
    "Using the Laplace transform $\\hat{f}_s = \\mathcal{L}[\\tilde{f}_s]$, $\\hat{E} = \\mathcal{L}[\\tilde{E}]$ in time instead of the Fourier transform leads to:\n",
    "\n",
    "$$\n",
    "\\hat{f}_s (k, v, \\omega) = \n",
    "i \\frac{\\tilde{f}_s(t=0)}{\\omega - kv}\n",
    "-i \\frac{q_s Z_s}{m_s} \\frac{\\frac{\\partial f_{s0} }{\\partial v}}{\\omega - k v} \\hat{E}\n",
    "$$"
   ]
  },
  {
   "cell_type": "markdown",
   "id": "76c62b4f",
   "metadata": {
    "slideshow": {
     "slide_type": "fragment"
    }
   },
   "source": [
    "Again, using Gauss's law to solve for the electric field leads to:\n",
    "$$\n",
    "\\hat{E}(k,\\omega) = \\frac{\\sum_s \\frac{q_s Z_s}{\\varepsilon_0} \\int_s dv \\;\\frac{\\tilde{f}_s(t=0)}{\\omega - kv} }{k \\varepsilon}\n",
    "$$\n",
    "where: \n",
    "$$\n",
    "\\varepsilon = \n",
    "1 -  \\sum_s \\frac{\\omega_{ps}^2}{k^2} \\int dv \\; \\frac{\\frac{\\partial {f}_{s0} }{\\partial v}}{v - \\omega/k }\n",
    "$$\n",
    "* Note that $\\varepsilon = 0$ is the same dispersion relation previously found, except that this time we have the condition with $\\Im(\\omega)>\\sigma$ so the equation is well-defined."
   ]
  },
  {
   "cell_type": "markdown",
   "id": "038ea46f",
   "metadata": {
    "slideshow": {
     "slide_type": "subslide"
    }
   },
   "source": [
    "Finally, the perturbated distribution function reads:\n",
    "$$\n",
    "\\tilde{f}_s (k, v, \\omega) = \n",
    "i \\frac{\\tilde{f}_s(t=0)}{\\omega - kv}\n",
    "-i \\frac{q_s Z_s}{m_s} \\frac{\\frac{\\partial {f}_{s0} }{\\partial v}}{\\omega - k v} \\frac{\\sum_s \\frac{q_s Z_s}{\\varepsilon_0} \\int_s dv \\;\\frac{f_s(t=0)}{\\omega - kv} }{k \\varepsilon}\n",
    "$$"
   ]
  },
  {
   "cell_type": "markdown",
   "id": "d52d1882",
   "metadata": {
    "slideshow": {
     "slide_type": "subslide"
    }
   },
   "source": [
    "### Inverting the Laplace transform\n",
    "Now that we have $\\tilde{E}(k,\\omega)$ and $\\tilde{f}_s(k,v,\\omega)$, we are interested to get $\\tilde{E(k,t)}$ and $\\tilde{f}_s(k,v,t)$ (time response of a given mode $k$), by taking its inverse Laplace Transform, noting that $\\Im(\\omega)>\\sigma$\n",
    "$$\n",
    "\\tilde{E}(k,t) = \\int_{-\\infty + i\\sigma}^{+\\infty + i\\sigma} \\frac{d\\omega}{2\\pi} \\hat{E}(k,\\omega) e^{-i\\omega t}\n",
    "$$"
   ]
  },
  {
   "cell_type": "markdown",
   "id": "56c08b20",
   "metadata": {
    "slideshow": {
     "slide_type": "subslide"
    }
   },
   "source": [
    "<img src=\"figures/Bromwich_contour_w.png\" witdh=\"200\" align=\"right\"/>\n",
    "\n",
    "Let's concentrate on the behaviour of these perturbed quantities at large times. \n",
    "\n",
    "* First, we note that the integration line is located at $\\Im(\\omega)=\\sigma$, i.e. *above* all the singularities of $\\tilde{E}$ by definition of the inverse Laplace Transform.\n",
    "* Nevertheless, it is much easier to evaluate the integral along a differ line.\n",
    "* Two integration paths are equivalent provided that no singularities are contained in the region between these two paths crossed"
   ]
  },
  {
   "cell_type": "markdown",
   "id": "45a8713f",
   "metadata": {
    "slideshow": {
     "slide_type": "subslide"
    }
   },
   "source": [
    "<img src=\"figures/Bromwich_contour_w_deformed.png\" width=\"200\" align=\"right\"/>\n",
    "\n",
    "* Deforming arbitrary downside the integration linesuch as the integration line is now below all poles (using $\\omega'=\\omega - i\\Gamma$) shows that this contribution is negligible for sufficiently large times $t$:\n",
    "$$\n",
    "\\int_{-\\infty + i\\sigma}^{+\\infty + i\\sigma} \\frac{d\\omega}{2\\pi} \\hat{E}(k,\\omega) e^{-i\\omega t}\n",
    "=\n",
    "e^{-\\Gamma t} \\int_{-\\infty}^{+\\infty} \\frac{d\\omega}{2\\pi} \\hat{E}(k,\\omega') e^{-i\\omega' t} \\to 0\n",
    "$$\n",
    "\n",
    "* Hence, by closing the contour with the lower half-plane semicircle and applying the residue theorem leads to:\n",
    "$$\n",
    "\\lim_{t\\gg0} \\tilde{E}(k,t) \\approx 2i\\pi \\sum_{k} \\left[(\\omega - \\omega_k) \\tilde{E}e^{-i\\omega_k t} \\right]_{\\omega=\\omega_k} \n",
    "$$\n",
    "* So, the behaviour of the integral is dominated by the contributions of the poles of $\\tilde{E}(k,\\omega)$\n",
    "    * in fact, by the *uppermost* pole as $t$ grows large"
   ]
  },
  {
   "cell_type": "markdown",
   "id": "68730365",
   "metadata": {
    "slideshow": {
     "slide_type": "subslide"
    }
   },
   "source": [
    "* To continue further we need to know what these poles are, to calculate their residues.\n",
    "* It turns out the poles $\\omega_j$ come from $\\varepsilon(k,\\omega=\\omega_j)$ vanishes (as the denominator is).\n",
    "* We must now examinate the integral $ \\int dv \\; \\frac{\\frac{\\partial \\hat{f}_{s0} }{\\partial v}}{v - \\omega/k }$"
   ]
  },
  {
   "cell_type": "markdown",
   "id": "e21ee944",
   "metadata": {
    "slideshow": {
     "slide_type": "subslide"
    }
   },
   "source": [
    "### Poles of the dispersion relation\n",
    "Let's examinate the integral:\n",
    "$$\n",
    "\\int_{-\\infty}^{+\\infty} dv \\; \\frac{\\frac{\\partial \\hat{f}_{s0} }{\\partial v}}{v - \\omega/k }\n",
    "$$\n",
    "* Such integrals become singular as $\\omega$ approaches the real axis (integration axis). \n",
    "    * If $\\omega$ is complex, the pole is not on the real axis and the continuity is guaranteed \n",
    "* Let's consider $v$ as a complex variable\n",
    "    * To treat the case for $\\Im(\\omega)\\to 0$ and even negative cases, we need to distort the contour to  continue these integrals smoothly across the real axis.\n",
    "    * Start from $\\omega$ in the upper-half of the $v$-plane and to then find the *analytic continuation* into the lower-half $v$-plane\n",
    "    * Achieved by deforming the integration contour in such a way that it always lies on the *same side* of the pole $ω/k$.\n",
    "    * Remember that the Laplace transform was originally defined for $\\Im(\\omega)$ sufficiently positively large, so the pole is *above* the real *v*-axis.\n",
    "    * This answers to the previous question: the physically meaningful half-plane is the upper one.\n",
    "\n",
    "* NB: the contour is *not* closed in the upper or lower half-plane (as often in complex analysis), because we have no guarantee $\\partial f$ behaves correctly and would cancel the integration on the semi-circle at infinite radius.\n"
   ]
  },
  {
   "cell_type": "markdown",
   "id": "e2efebfa",
   "metadata": {},
   "source": [
    "Then, three cases arise depending on the imaginary part of $\\omega$:\n",
    "\n",
    "$$\n",
    "\\int_{-\\infty}^{+\\infty} dv \\; \\frac{\\frac{\\partial \\hat{f}_{s0} }{\\partial v}}{v - \\omega/k }\n",
    "=\n",
    "\\begin{cases}\n",
    "\\int_{-\\infty}^{+\\infty} dv \\; \\frac{\\frac{\\partial \\hat{f}_{s0} }{\\partial v}}{v - \\omega/k } & \\text{if $\\Im(\\omega)>0$} \\\\ \n",
    "\\mathcal{P}\n",
    "\\int_{-\\infty}^{+\\infty} dv \\; \\frac{\\frac{\\partial \\hat{f}_{s0} }{\\partial v}}{v - \\omega/k } + \\pi i \\left.\\frac{\\partial \\hat{f}_{s0} }{\\partial v}\\right|_{v=\\omega/k}\n",
    "& \\text{if $\\Im(\\omega)=0$}\n",
    "\\\\ \n",
    "\\mathcal{P}\n",
    "\\int_{-\\infty}^{+\\infty} dv \\; \\frac{\\frac{\\partial \\hat{f}_{s0} }{\\partial v}}{v - \\omega/k } + 2 \\pi i \\left.\\frac{\\partial \\hat{f}_{s0} }{\\partial v}\\right|_{v=\\omega/k} & \\text{if $\\Im(\\omega)<0$}\n",
    "\\end{cases}\n",
    "$$\n",
    "Where the case for $\\Im(\\omega)=0$ can demonstrated using the [Sokhotski–Plemelj Formula](https://en.wikipedia.org/wiki/Sokhotski%E2%80%93Plemelj_theorem). (cf [Appendix](Appendix_Sokhotski–Plemelj.ipynb))\n",
    "\n",
    "* Let's apply this result to a practical example."
   ]
  },
  {
   "cell_type": "markdown",
   "id": "4e03fb5c",
   "metadata": {
    "slideshow": {
     "slide_type": "slide"
    }
   },
   "source": [
    "## Applications\n",
    "### Langmuir Wave\n",
    "Consider the dispersion relation for electrostatic wave in an unmagnetized plasma, and let's restrict ourself to high-frequency oscillations, such as only electrons respond to the wave ($\\omega/k\\gg v_{th,e}$):\n",
    "$$\n",
    "0 \n",
    "= 1 -  \\sum_s \\frac{\\omega_{ps}^2}{k^2} \\int dv \\; \\frac{\\frac{\\partial \\bar{f}_{s0} }{\\partial v}}{v - \\omega/k } \n",
    "\\approx \n",
    "1 -  \\frac{\\omega_{pe}^2}{k^2} \\int dv \\; \\frac{\\frac{\\partial \\bar{f}_{e0} }{\\partial v}}{v - \\omega/k } \n",
    "$$"
   ]
  },
  {
   "cell_type": "markdown",
   "id": "dfb4143a",
   "metadata": {
    "slideshow": {
     "slide_type": "fragment"
    }
   },
   "source": [
    "Using the previous result for the dispersion relation, and assuming $\\Im(\\omega)\\to 0^+$ (i.e. $\\omega$ real) which place ourselves in a regime of weak damping (the wave can propagate over a few period before being absorbed by the plasma):\n",
    "$$\n",
    "\\int dv \\; \\frac{\\frac{\\partial \\bar{f}_{e0} }{\\partial v}}{v - \\omega/k } \n",
    "=\n",
    "\\mathcal{P}\n",
    "\\int_{-\\infty}^{+\\infty} dv \\; \\frac{ \\frac{\\partial \\bar{f}_{e0} }{\\partial v} }{v - \\omega/k }\n",
    "+\n",
    "i\\pi \\left. \\frac{\\partial \\bar{f}_{e0} }{\\partial v}\\right|_{v=\\omega/k}\n",
    "$$"
   ]
  },
  {
   "cell_type": "markdown",
   "id": "280cfac6",
   "metadata": {
    "slideshow": {
     "slide_type": "fragment"
    }
   },
   "source": [
    "So the dispersion relation leads to:\n",
    "$$\n",
    "0 \n",
    "= 1 -   \\frac{\\omega_{pe}^2}{k^2} \n",
    "\\left[\n",
    "\\mathcal{P}\n",
    "\\int_{-\\infty}^{+\\infty} dv \\; \\frac{ \\frac{\\partial \\bar{f}_{e0} }{\\partial v} }{v - \\omega/k }\n",
    "+\n",
    "i\\pi \\left. \\frac{\\partial \\bar{f}_{e0} }{\\partial v}\\right|_{v=\\omega/k}\n",
    "\\right]\n",
    "$$"
   ]
  },
  {
   "cell_type": "markdown",
   "id": "5e2aacbe",
   "metadata": {
    "slideshow": {
     "slide_type": "subslide"
    }
   },
   "source": [
    "Assuming a Maxwellian distribution function:\n",
    "$$\n",
    "f_{e0} (v) = \\frac{1}{v_{th,e}\\sqrt{\\pi}} e^{-\\frac{v^2}{v_{th,e}^2}}\n",
    "$$\n",
    "with $v_{th,e}^2=2k_B T_e/m_e$ and using our initial assumption $\\omega \\gg k v_{th,e}$ to taylor expand\n",
    "$$\n",
    "\\frac{1}{\\omega - kv}\n",
    "\\approx \n",
    "\\frac{1}{\\omega}\n",
    "\\left[\n",
    "1 + \\frac{kv}{\\omega} + \\frac{(kv^2)}{\\omega^2} + + \\frac{(kv^3)}{\\omega^3} + \\ldots \n",
    "\\right]\n",
    "$$"
   ]
  },
  {
   "cell_type": "markdown",
   "id": "65ba1f0c",
   "metadata": {
    "slideshow": {
     "slide_type": "fragment"
    }
   },
   "source": [
    "We have:\n",
    "$$\n",
    "\\mathcal{P}\n",
    "\\int_{-\\infty}^{+\\infty} dv \\; \\frac{ \\frac{\\partial \\hat{f}_{e0} }{\\partial v} }{v - \\omega/k }\n",
    "\\approx\n",
    "-\\frac{n_{e0}}{\\omega} \\left( \\frac{k}{\\omega} + \\frac{3}{2} \\frac{k^3}{\\omega^3}v_{th,e}^2 \\right)\n",
    "$$"
   ]
  },
  {
   "cell_type": "markdown",
   "id": "f1f64c69",
   "metadata": {
    "slideshow": {
     "slide_type": "fragment"
    }
   },
   "source": [
    "And finally the dispersion relation yields:\n",
    "$$\n",
    "1 - \\frac{\\omega_{pe}^2}{\\omega^2} -  \\frac{3}{2} \\frac{k^2 v_{th,e}^2}{\\omega^2} - i\\frac{\\pi}{k^2}\\frac{e^2}{m_e \\varepsilon_0} \\left. \\frac{\\partial \\bar{f}_{e0} }{\\partial v}\\right|_{v=\\omega/k} = 0\n",
    "$$"
   ]
  },
  {
   "cell_type": "markdown",
   "id": "7d81e06a",
   "metadata": {
    "slideshow": {
     "slide_type": "slide"
    }
   },
   "source": [
    "Taking the real part gives:\n",
    "$$\n",
    "1 - \\frac{\\omega_{pe}^2}{\\Re(\\omega)^2} \\left( 1 + \\frac{3}{2}\\frac{k^2 v_{th,e}^2}{\\Re(\\omega)} \\right)\n",
    "\\rightarrow\n",
    "\\Re(\\omega)^2 \\approx \\omega_{pe}^2 + \\frac{3}{2} (k v_{th,e})^2\n",
    "$$\n",
    "which is reminiscent of the cold plasma Langmuir wave dispersion, with a thermal correction, also known as [Bohm-Gross Dispersion relation](https://scienceworld.wolfram.com/physics/Bohm-GrossDispersionRelation.html).\n",
    "\n",
    "* This correction leads that unlike to the cold case (when neglecting plasma pressure) the wave is now propagating as $v_\\phi$ and $v_g$ are defined ($v_g \\ll v_{th,e}$).\n",
    "* known as the *Langmuir wave*,"
   ]
  },
  {
   "cell_type": "markdown",
   "id": "2473dcdb",
   "metadata": {
    "slideshow": {
     "slide_type": "fragment"
    }
   },
   "source": [
    "Taking the imaginary part gives:\n",
    "$$\n",
    "\\Im(\\omega) \n",
    "=\n",
    "\\frac{\\pi}{2} \\frac{\\omega_{pe}}{k^2}\\frac{e^2}{m_e \\varepsilon_0} \\left. \\frac{\\partial \\bar{f}_{e0} }{\\partial v}\\right|_{v=\\omega/k}\n",
    "$$\n",
    "* for $k>0$, if the distribution function decreases with velocity $\\partial \\bar{f}/\\partial v <0$, the imaginary part is negative --> absorption by the plasma\n",
    "* This phenomenon is known as *Landau damping*\n",
    "* It's magnitude is function of the slope of the distribution function in the velocity space\n",
    "* the stronger the slope, the more efficient the absorption\n",
    "* on the other hands, if the slope is flat, no damping occurs\n",
    "* If the slope is positive, the plasma will emit a wave in the process of relaxing towards thermodynamical equilibrium: *plasma kinetic instabilities*"
   ]
  },
  {
   "cell_type": "markdown",
   "id": "0cd3fc23",
   "metadata": {},
   "source": [
    "* While no dissipative effects were explicitly included in the collisionless Vlasov equation,\n",
    "* Landau damping was first observed experimentally in the [1960s](https://journals.aps.org/prl/abstract/10.1103/PhysRevLett.13.184)"
   ]
  },
  {
   "cell_type": "markdown",
   "id": "2d0bd679",
   "metadata": {
    "slideshow": {
     "slide_type": "subslide"
    }
   },
   "source": [
    "### Parallel Propagation: Whistlers Modes\n",
    "Solving the hot dispersion relation for the case of the whistlers leads to (cf. [R.Dumont lecture note §3.3.4](https://hal-cea.archives-ouvertes.fr/cel-01463091):\n",
    "$$\n",
    "1 - n^2_\\parallel + \\sum_s \\frac{\\omega_{ps}^2}{\\omega} \\frac{1}{k_\\parallel v_{th,s}} Z\\left( \\frac{\\omega - n \\Omega_s}{k_\\parallel v_\\parallel} \\right) = 0\n",
    "$$\n",
    "where $Z$ is the [plasma dispersion function](https://farside.ph.utexas.edu/teaching/plasma/lectures1/node87.html). \n",
    "\n",
    "Significant damping occur when:\n",
    "$$\n",
    "\\frac{\\omega - n \\Omega_s}{k_\\parallel v_\\parallel}  < 1\n",
    "$$\n",
    "* typical situation occurs when $\\omega \\approx \\Omega_{ci}$, so the ion whistlers is essentially absorbed by ions.\n"
   ]
  },
  {
   "cell_type": "markdown",
   "id": "936fa079",
   "metadata": {
    "slideshow": {
     "slide_type": "fragment"
    }
   },
   "source": [
    "* A similar solution is achieved for the electron whistlers, where efficient damping is obtained for $\\omega\\approx\\Omega_{ce}$"
   ]
  },
  {
   "cell_type": "markdown",
   "id": "c5ed2edf",
   "metadata": {},
   "source": [
    "* For both waves, the absorption mechanism is different from Landau damping and is referred to *cyclotron damping*:\n",
    "    * interaction now takes place between the cyclotron rotation and the wave field\n",
    "    * on average, particles rotating slightly faster than the wave field will have a tendancy to lose energy to the wave\n",
    "    * whereas those that rotating slightly slower will gain energy from the wave\n",
    "    * for Maxwellian cases, the slower particles are more numerous than the faster --> net damping of the wave"
   ]
  },
  {
   "cell_type": "markdown",
   "id": "a222476d",
   "metadata": {
    "slideshow": {
     "slide_type": "subslide"
    }
   },
   "source": [
    "### Perpendicular Propagation\n",
    "#### Ordinary Waves\n",
    "Solving the hot dispersion relation leads to a very different ordinary wave than in cold plasma approximation\n",
    "* because of the influence of the cyclotron harmonics $\\omega=n\\Omega_{cs}$, a process called *finite Larmor radius effect*.\n",
    "* result of the fact that the wave phase varies along the particle orbit\n",
    "\n",
    "#### Extraordinary Waves\n",
    "* *Berstein waves*"
   ]
  },
  {
   "cell_type": "markdown",
   "id": "1251e667",
   "metadata": {
    "slideshow": {
     "slide_type": "slide"
    }
   },
   "source": [
    "## Summary\n",
    "* Kinetic theory is the adequate framework to describe wave-plasma interactions\n",
    "    * No limitations on frequency domain\n",
    "    * Naturally includes thermal effects (fluid equation closure not required)\n",
    "    * Arbitrary distributions (not limited to Maxwellians)\n",
    "\n",
    "* A new dielectric tensor is obtained by integrating the first order linearized Vlasov equation over the particle unperturbed orbits\n",
    "\n",
    "* The dispersion relation obtained exhibits resonant denominators.\n",
    "    * The handling of these singularities requires a subtle mathematical treatment:\n",
    "    * The dispersion relation includes an imaginary contribution, and can be solved pertubatively in the case of weak absorption\n",
    "\n",
    "* Kinetic treatment leads to collisionless damping such as Landau and cyclotron damping\n",
    "\n",
    "* For electrostatic waves propagating in an unmagnetized plasma, two modes are found:\n",
    "    * The Langmuir wave in the frequency range $\\omega\\gg k v_{th,e}$, absorbed by electron Landau damping\n",
    "    * The Ion Acoustic wave in the frequency range $k v_{th,i} \\ll \\omega \\ll k v_{th,e}$, absorbed by ion Landau damping (heavily damped in plasmas with $T_e~T_i$, such as fusion plasmas)\n"
   ]
  },
  {
   "cell_type": "markdown",
   "id": "36118dac",
   "metadata": {
    "slideshow": {
     "slide_type": "slide"
    }
   },
   "source": [
    "\n",
    "## References Used In this Lecture\n",
    "* D. G. Swanson, Plasma Waves. Taylor & Francis, 2nd edition, Bristol, 2003. (Chapter 4.3)\n",
    "* M. Brambilla, Kinetic Theory of Plasma Waves: Homogeneous Plasmas. Oxford University Press, 1998. (Chapters 1, 4 and 6)\n",
    "* R. Dumont, [Waves in Plasmas](https://hal-cea.archives-ouvertes.fr/cel-01463091), Jan. 31, 2017. (Chapter 3)\n",
    "* R. Fitzpatrick, [Plasma Physics](https://farside.ph.utexas.edu/teaching/plasma/Plasma/index.html)\n",
    "\n"
   ]
  },
  {
   "cell_type": "markdown",
   "id": "a8d11108",
   "metadata": {
    "slideshow": {
     "slide_type": "subslide"
    }
   },
   "source": [
    "**Reminder: Cauchy's Integral Formula**\n",
    "\n",
    "If $g(z)$ is analytic inside and on a simple closed countour $\\mathcal{C}$ positively oriented, [Cauchy's integral formula](https://en.wikipedia.org/wiki/Cauchy%27s_integral_formula) yields:\n",
    "$$\n",
    "\\oint_\\mathcal{C} \\frac{g(z)}{z - a} \\; dz \n",
    "=\n",
    "\\begin{cases}\n",
    "0 & \\text{if $a$ is outside the integration contour $\\mathcal{C}$} \\\\\n",
    "i\\pi g(a) & \\text{if $a$ is on the integration contour $\\mathcal{C}$} \\\\\n",
    "2 i \\pi g(a) & \\text{if $a$ is inside the integration contour $\\mathcal{C}$} \n",
    "\\end{cases}\n",
    "$$\n"
   ]
  }
 ],
 "metadata": {
  "celltoolbar": "Slideshow",
  "kernelspec": {
   "display_name": "Python 3 (ipykernel)",
   "language": "python",
   "name": "python3"
  },
  "language_info": {
   "codemirror_mode": {
    "name": "ipython",
    "version": 3
   },
   "file_extension": ".py",
   "mimetype": "text/x-python",
   "name": "python",
   "nbconvert_exporter": "python",
   "pygments_lexer": "ipython3",
   "version": "3.10.8"
  },
  "livereveal": {
   "autolaunch": true
  },
  "toc": {
   "base_numbering": 1,
   "nav_menu": {},
   "number_sections": true,
   "sideBar": true,
   "skip_h1_title": true,
   "title_cell": "Table of Contents",
   "title_sidebar": "Contents",
   "toc_cell": false,
   "toc_position": {},
   "toc_section_display": true,
   "toc_window_display": false
  }
 },
 "nbformat": 4,
 "nbformat_minor": 5
}
