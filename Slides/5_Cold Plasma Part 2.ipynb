{
 "cells": [
  {
   "cell_type": "markdown",
   "id": "b746566c",
   "metadata": {
    "slideshow": {
     "slide_type": "slide"
    }
   },
   "source": [
    "# Waves in Cold Magnetized Plasma (Part 2)"
   ]
  },
  {
   "cell_type": "markdown",
   "id": "f5ae8170",
   "metadata": {
    "slideshow": {
     "slide_type": "fragment"
    }
   },
   "source": [
    "## Summary of the Previous Lecture\n",
    "* 2 main classes of models are available to describe the plasma response to the wave field: *fluid* models and *kinetic* models\n",
    "* *Cold plasmas* are described by setting the temperature/pressure to 0 in the fluid equations\n",
    "    * This allows the Stix dielectric tensor for cold plasmas to be computed\n",
    "    * (it can also be done in the framework of the kinetic theory.) \n",
    "* The wave equation and *dispersion relation* reveal 2 waves (or *modes*)\n",
    "    * each either propagative ($k^2 > 0$) or evanescent ($k^2 < 0$)"
   ]
  },
  {
   "cell_type": "markdown",
   "id": "8e36aa92",
   "metadata": {
    "slideshow": {
     "slide_type": "subslide"
    }
   },
   "source": [
    "### Formulary\n",
    "#### Fluid Density Conservation\n",
    "$$\n",
    "\\frac{\\partial n_s}{\\partial t} + \\nabla \\cdot (n_s \\underline{V_s}) = 0\n",
    "$$\n",
    "\n",
    "#### Fluid Momentum Conservation\n",
    "$$\n",
    "n_s m_s \\left(\n",
    "\\frac{\\partial \\underline{V_s}}{\\partial t} + (\\underline{V}_s\\cdot\\nabla)\\underline{V_s}\n",
    "\\right)\n",
    "=\n",
    "n_s q_s (\\underline{E} + \\underline{V_s} \\times \\underline{B})\n",
    "- \\nabla \\cdot \\underline{\\underline{\\Phi_s}}\n",
    "$$"
   ]
  },
  {
   "cell_type": "markdown",
   "id": "fc2f2832",
   "metadata": {
    "slideshow": {
     "slide_type": "subslide"
    }
   },
   "source": [
    "#### Wave Equation and Dispersion Relation\n",
    "$$\n",
    "\\underline{\\underline{M}} \\cdot \\underline{E} = \\underline{0}\n",
    "$$\n",
    "with \n",
    "$$\n",
    "\\underline{\\underline{M}} = k^2 \\underline{\\underline{I}} - \\frac{\\omega^2}{c^2} \\underline{\\underline{K}} - \\underline{k}\\underline{k}\n",
    "$$\n",
    "The non trivial solution of the previous equation is obtained for $\\det\\underline{\\underline{M}}=0$ which can be solved for $\\omega(\\underline{k})$, the *dispersion relation*.\n"
   ]
  },
  {
   "cell_type": "markdown",
   "id": "fe3717de",
   "metadata": {
    "slideshow": {
     "slide_type": "subslide"
    }
   },
   "source": [
    "#### Cold Dielectric Tensor\n",
    "$$\n",
    "\\underline{\\underline{\\varepsilon}} \n",
    "= \\varepsilon_0 \\underline{\\underline{K}} \n",
    "= \\varepsilon_0 \\left(\\underline{\\underline{I}} + \\frac{i}{\\omega \\varepsilon_0} \\underline{\\underline{\\sigma}}\\right) \n",
    "$$\n",
    "with the traditionnal notation (*Stix tensor*):\n",
    "$$\n",
    "\\underline{\\underline{K}} \n",
    "= \n",
    "\\left(\n",
    "\\begin{matrix}\n",
    "S & -iD & 0 \\\\\n",
    "iD & S & 0 \\\\\n",
    "0 & 0 & P\n",
    "\\end{matrix}\n",
    "\\right)\n",
    "$$\n",
    "with\n",
    "$$\n",
    "S = \\frac{1}{2}(R + L) = 1 - \\sum_s \\frac{\\omega_{ps}^2}{\\omega^2 - \\Omega_{s}^2}\n",
    "$$\n",
    "$$\n",
    "D = \\frac{1}{2}(R - L) = \\sum_s \\frac{\\omega_{ps}^2}{\\omega} \\frac{\\Omega_s}{\\omega^2 - \\Omega_{s}^2}\n",
    "$$\n",
    "$$\n",
    "P = 1 - \\sum_s \\frac{\\omega_{ps}^2}{\\omega^2}\n",
    "$$\n",
    "where $S$ stands for \"sum\", $D$ for \"difference\" and $P$ for \"Plasma\". \n",
    "\n",
    "* We also have:\n",
    "$$\n",
    "R = 1 - \\sum_s \\frac{\\omega_{ps}^2}{\\omega(\\omega + \\Omega_s)}\n",
    "$$\n",
    "$$\n",
    "L = 1 - \\sum_s \\frac{\\omega_{ps}^2}{\\omega(\\omega - \\Omega_s)}\n",
    "$$\n",
    "The $R$ and $L$ terms arise in a derivation based on expressing the field in terms of rotating polarizations (\"right\" and \"left\") rather than the direct Cartesian approach (Stix frame).\n",
    "\n",
    "* Once the dispersion relation is solved, it yields the polarization of the wave mode."
   ]
  },
  {
   "cell_type": "markdown",
   "id": "af417143",
   "metadata": {
    "slideshow": {
     "slide_type": "subslide"
    }
   },
   "source": [
    "### Terminology\n",
    "* *Perpendicular* or *Parallel* propagation, with respect to the confining magnetic field $\\underline{B_0}$ \n",
    "* Waves are said to be:\n",
    "    * *Longitudinal* if $\\underline{E} \\parallel \\underline{k}$\n",
    "    * *Transverse* if $\\underline{E} \\cdot \\underline{k} = 0$ (i.e. $\\underline{E} \\perp \\underline{k}$)    "
   ]
  },
  {
   "cell_type": "code",
   "execution_count": 1,
   "id": "efbc7787",
   "metadata": {
    "slideshow": {
     "slide_type": "slide"
    }
   },
   "outputs": [],
   "source": [
    "import plasmapy as pp\n",
    "import astropy.units as u\n",
    "import matplotlib.pyplot as plt\n",
    "import numpy as np\n",
    "import ipywidgets as widgets\n",
    "from scipy.constants import c\n",
    "from ipywidgets import interact, interactive, fixed, interact_manual"
   ]
  },
  {
   "cell_type": "code",
   "execution_count": 2,
   "id": "6f9d1e97",
   "metadata": {
    "slideshow": {
     "slide_type": "subslide"
    }
   },
   "outputs": [],
   "source": [
    "def filter_negative_and_positive_values(arr):\n",
    "    \"\"\"\n",
    "    Return an array with only negative values of ``arr``\n",
    "    and an array with only positive values of ``arr``.\n",
    "    Each element of these arrays that does not meet the\n",
    "    condition are replaced with `~numpy.nan`.\n",
    "    \"\"\"\n",
    "    arr_neg = np.ma.masked_greater_equal(arr, 0).filled(np.nan)\n",
    "    arr_pos = np.ma.masked_less_equal(arr, 0).filled(np.nan)\n",
    "    return arr_neg, arr_pos"
   ]
  },
  {
   "cell_type": "markdown",
   "id": "2ac8f7b9",
   "metadata": {
    "slideshow": {
     "slide_type": "slide"
    }
   },
   "source": [
    "## Parallel Propagation: $\\underline{k}=k\\underline{\\hat{z}}$ ($\\theta = 0$)\n",
    "The wave equations then reads:\n",
    "$$\n",
    "\\begin{cases}\n",
    "(n^2 - S) E_x & + iD E_y & & = 0 \\\\\n",
    "-iD E_X & + (n^2 - S) E_y & &= 0 \\\\\n",
    "& & P E_z &= 0\n",
    "\\end{cases}\n",
    "$$\n",
    "The first two and the last equation are uncoupled, so we have uncoupled perpendicular and parallel components, they have to be studied separately."
   ]
  },
  {
   "cell_type": "markdown",
   "id": "285617f6",
   "metadata": {
    "slideshow": {
     "slide_type": "subslide"
    }
   },
   "source": [
    "### Parallel Component\n",
    "$P E_z =0 $ leads to the dispersion relation:\n",
    "$$\n",
    "P = 0\n",
    "$$\n",
    "that is,\n",
    "$$\n",
    "\\omega^2 = \\sum_s \\omega_{ps}^2\n",
    "$$\n",
    "* the dispersion relation does not depend of $k$\n",
    "* the phase velocity $v_\\phi=\\omega/k$ is undefined\n",
    "* the group velocity $v_g=\\partial\\omega/\\partial k = 0$ so the wave is not propagating\n",
    "* Inserting this solution back into the wave equation leads to $E_x=E_y=0$: the oscillations of the electric field are parallel to $B_0$\n",
    "* using Maxwell equation ($\\underline{B}\\propto\\underline{k}\\times \\underline{E}$) we deduce that $\\underline{B}=0$: wave is *electrostatic*\n",
    "* This wave corresponds to the natural oscillation of the plasma, also known as *Langmuir* wave. "
   ]
  },
  {
   "cell_type": "markdown",
   "id": "fb29753a",
   "metadata": {
    "slideshow": {
     "slide_type": "subslide"
    }
   },
   "source": [
    "### Perpendicular component\n",
    "From\n",
    "$$\n",
    "\\begin{cases}\n",
    "(n^2 - S) E_x & + iD E_y & = 0 \\\\\n",
    "-iD E_X & + (n^2 - S) E_y &= 0\n",
    "\\end{cases}\n",
    "$$\n",
    "and using rotating field notation\n",
    "$$\n",
    "E_\\pm = \\frac{1}{\\sqrt{2}}(E_x \\pm i E_y)\n",
    "$$\n",
    "we obtain\n",
    "$$\n",
    "\\begin{cases}\n",
    "(L - n^2) E_+ = 0 & \\text{L or ion mode}\\\\\n",
    "(R - n^2) E_- = 0 & \\text{R or electron mode}\n",
    "\\end{cases}\n",
    "$$\n",
    "where $R=S+D$ and $L=S-D$. These two modes are the *whistler* modes."
   ]
  },
  {
   "cell_type": "markdown",
   "id": "1d704668",
   "metadata": {
    "slideshow": {
     "slide_type": "subslide"
    }
   },
   "source": [
    "#### Ion Whistler\n",
    "* Dispersion relation:\n",
    "$$\n",
    "n^2 = 1 - \\frac{\\omega_{pe}^2}{\\omega(\\omega + \\Omega_{e})} - \\frac{\\omega_{pi}^2}{\\omega(\\omega - \\Omega_{i})} \n",
    "$$\n",
    "* cutoff: $\\omega_L=\\frac{\\Omega_i - \\Omega_e}{2} + \\sqrt{\\left( \\frac{\\Omega_i + \\Omega_e}{2} \\right)^2 + \\omega_p^2}$ with $\\omega_p^2=\\sum_s \\omega_{ps}^2$\n",
    "* resonance: $\\omega = \\Omega_{ci}$\n",
    "* limits:\n",
    "    * $\\omega \\to 0$: $n^2 = 1$\n",
    "    * $\\omega \\to +\\infty$: $n^2\\to c^2 / v_A^2$ with $v_A = B_0/\\sqrt{\\mu_0\\sum_s n_s m_s}$ the Alvèn Speed.\n",
    "* Inserting this solution in wave equations leads to $E_- = 0$ and $E_x / E_y = + i$: this is a circular polarization, Efield rotates in the same direction than ions (hence the name).\n"
   ]
  },
  {
   "cell_type": "code",
   "execution_count": 3,
   "id": "77bab5b4",
   "metadata": {
    "slideshow": {
     "slide_type": "subslide"
    }
   },
   "outputs": [],
   "source": [
    "def n_square_ion_whistler(omega, B0=3*u.T, ni=1e15/u.m**3):\n",
    "    Omega_ci = pp.formulary.frequencies.gyrofrequency(B0, 'p')\n",
    "    Omega_ce = pp.formulary.frequencies.gyrofrequency(B0, 'e-')\n",
    "    omega_pi = pp.formulary.frequencies.plasma_frequency(ni, 'p')\n",
    "    omega_pe = pp.formulary.frequencies.plasma_frequency(ni, 'e-')    \n",
    "    return 1 - omega_pe**2/(omega * (omega + Omega_ce)) - omega_pi**2/(omega * (omega - Omega_ci))"
   ]
  },
  {
   "cell_type": "code",
   "execution_count": 4,
   "id": "c3e180a3",
   "metadata": {
    "slideshow": {
     "slide_type": "subslide"
    }
   },
   "outputs": [],
   "source": [
    "def plot_ion_whistler(B0, ni):\n",
    "    # B0 in T, ni in log10\n",
    "    w = 2*np.pi*np.logspace(5.5, 11, 10001) * u.rad / u.s\n",
    "    B0 = B0*u.T\n",
    "    ni = 10**ni/u.m**3\n",
    "    # various quantities\n",
    "    v_a = pp.formulary.Alfven_speed(B0, ni, 'p')\n",
    "    Omega_i = pp.formulary.frequencies.gyrofrequency(B0, 'p')\n",
    "    Omega_e = pp.formulary.frequencies.gyrofrequency(B0, 'e-')\n",
    "    omega_pi = pp.formulary.frequencies.plasma_frequency(ni, 'p')\n",
    "    omega_pe = pp.formulary.frequencies.plasma_frequency(ni, 'e-')\n",
    "    omega_p = np.sqrt(omega_pi**2 + omega_pe**2)\n",
    "    omega_L = (Omega_i - Omega_e)/2 + np.sqrt(((Omega_i+Omega_e)/2)**2 + omega_p**2)\n",
    "    # n^2 vs w\n",
    "    n_sq_neg_ion, n_sq_pos_ion = filter_negative_and_positive_values(n_square_ion_whistler(w, B0, ni))\n",
    "        \n",
    "    fig, ax = plt.subplots()\n",
    "    # limits\n",
    "    ax.axhline((c/v_a.value)**2, color='darkred', ls='--')\n",
    "    ax.axhline(1, color='darkred', ls='--')    \n",
    "    # Cutoff and Resonances\n",
    "    ax.axvline(Omega_i.value, color='gray', ls='--')\n",
    "    ax.axvline(omega_L.value, color='gray', ls='--')\n",
    "    # n^2 vs w\n",
    "    ax.semilogx(w, n_sq_pos_ion, lw=2)\n",
    "    ax.semilogx(w, n_sq_neg_ion, lw=2, color='C0', ls='--')\n",
    "    # axis properties\n",
    "    ax.set_ylim(-5*(c/v_a.value)**2, +5*(c/v_a.value)**2)\n",
    "    ax.set_xlabel('$\\omega$'); ax.set_ylabel('$n_\\perp^2$')\n",
    "    ax.set_title('Ion Whistler Dispersion Relation')"
   ]
  },
  {
   "cell_type": "code",
   "execution_count": 5,
   "id": "143bd6f4",
   "metadata": {
    "slideshow": {
     "slide_type": "subslide"
    }
   },
   "outputs": [
    {
     "data": {
      "application/vnd.jupyter.widget-view+json": {
       "model_id": "18327d7bd01e4ef0abd2e3901dc09000",
       "version_major": 2,
       "version_minor": 0
      },
      "text/plain": [
       "interactive(children=(IntSlider(value=3, description='B0', max=9, min=-3), IntSlider(value=18, description='ni…"
      ]
     },
     "metadata": {},
     "output_type": "display_data"
    },
    {
     "data": {
      "text/plain": [
       "<function __main__.plot_ion_whistler(B0, ni)>"
      ]
     },
     "execution_count": 5,
     "metadata": {},
     "output_type": "execute_result"
    }
   ],
   "source": [
    "interact(plot_ion_whistler, B0=3, ni=18)"
   ]
  },
  {
   "cell_type": "markdown",
   "id": "33f89137",
   "metadata": {
    "slideshow": {
     "slide_type": "subslide"
    }
   },
   "source": [
    "#### Electron Whistler\n",
    "* Dispersion relation:\n",
    "$$\n",
    "n^2 = 1 - \\frac{\\omega_{pe}^2}{\\omega(\\omega - \\Omega_{e})} - \\frac{\\omega_{pi}^2}{\\omega(\\omega + \\Omega_{i})} \n",
    "$$\n",
    "\n",
    "* cutoff: $\\omega_R=\\frac{\\Omega_e - \\Omega_i}{2} + \\sqrt{\\left( \\frac{\\Omega_i + \\Omega_e}{2} \\right)^2 + \\omega_p^2}$ with $\\omega_p^2=\\sum_s \\omega_{ps}^2$\n",
    "* resonance: $\\omega = \\Omega_{ce}$\n",
    "* limits:\n",
    "    * $\\omega \\to 0$: $n^2 = 1$\n",
    "    * $\\omega \\to +\\infty$: $n^2 = 1$    \n",
    "* Inserting this solution in wave equations leads to $E_+ = 0$: this is a circular polarization, Efield rotates in the same direction than electrons (hence the name).\n",
    "* Phase velocity: $v_\\phi \\approx c\\sqrt{\\frac{\\omega\\Omega_e}{\\omega_{pe}^2}}$\n",
    "* Group velocity: $v_g = 2v_\\phi$\n",
    "* Note that both velocities depends on $\\propto \\sqrt{\\omega}$\n",
    "    * the *dispersity* of this wave is large \n",
    "    * the high frequency components of the wave propagate faster than the low frequency components, leading to this \"whistling\" tone (hence the name)."
   ]
  },
  {
   "cell_type": "code",
   "execution_count": 6,
   "id": "ed719cf7",
   "metadata": {
    "slideshow": {
     "slide_type": "subslide"
    }
   },
   "outputs": [],
   "source": [
    "def n_square_electron_whistler(omega, B0=3*u.T, ni=1e15/u.m**3):\n",
    "    Omega_ci = pp.formulary.frequencies.gyrofrequency(B0, 'p')\n",
    "    Omega_ce = pp.formulary.frequencies.gyrofrequency(B0, 'e-')\n",
    "    omega_pi = pp.formulary.frequencies.plasma_frequency(ni, 'p')\n",
    "    omega_pe = pp.formulary.frequencies.plasma_frequency(ni, 'e-')    \n",
    "    return 1 - omega_pe**2/(omega * (omega - Omega_ce)) - omega_pi**2/(omega * (omega + Omega_ci))"
   ]
  },
  {
   "cell_type": "code",
   "execution_count": 7,
   "id": "a24a0f2f",
   "metadata": {
    "slideshow": {
     "slide_type": "subslide"
    }
   },
   "outputs": [],
   "source": [
    "def plot_electron_whistler(B0, ni):\n",
    "    # B0 in T, ni in log10\n",
    "    w = 2*np.pi*np.logspace(5.5, 11, 10001) * u.rad / u.s\n",
    "    B0 = B0*u.T\n",
    "    ni = 10**ni/u.m**3\n",
    "    # various quantities\n",
    "    v_a = pp.formulary.Alfven_speed(B0, ni, 'p')\n",
    "    Omega_i = pp.formulary.frequencies.gyrofrequency(B0, 'p')\n",
    "    Omega_e = pp.formulary.frequencies.gyrofrequency(B0, 'e-')\n",
    "    omega_pi = pp.formulary.frequencies.plasma_frequency(ni, 'p')\n",
    "    omega_pe = pp.formulary.frequencies.plasma_frequency(ni, 'e-')\n",
    "    omega_p = np.sqrt(omega_pi**2 + omega_pe**2)\n",
    "    omega_R = (Omega_e - Omega_i)/2 + np.sqrt(((Omega_i+Omega_e)/2)**2 + omega_p**2)\n",
    "    # n^2 vs w\n",
    "    n_sq_neg_ion, n_sq_pos_ion = filter_negative_and_positive_values(n_square_electron_whistler(w, B0, ni))\n",
    "        \n",
    "    fig, (ax1, ax2) = plt.subplots(ncols=2)\n",
    "    # limits\n",
    "    ax1.axhline((c/v_a.value)**2, color='darkred', ls='--')\n",
    "    ax2.axhline((c/v_a.value)**2, color='darkred', ls='--')\n",
    "    ax1.axhline(1, color='darkred', ls='--')    \n",
    "    ax2.axhline(1, color='darkred', ls='--')    \n",
    "    # Cutoff and Resonances\n",
    "    ax2.axvline(1, color='gray', ls='--')\n",
    "    ax2.axvline(omega_R.value/Omega_e.value, color='gray', ls='--')\n",
    "    # n^2 vs w\n",
    "    ax1.semilogx(w, n_sq_pos_ion, lw=2)\n",
    "    ax1.semilogx(w, n_sq_neg_ion, lw=2, color='C0', ls='--')    \n",
    "    ax2.plot(w/Omega_e.value, n_sq_pos_ion, lw=2)\n",
    "    ax2.plot(w/Omega_e.value, n_sq_neg_ion, lw=2, color='C0', ls='--')\n",
    "    # axis properties\n",
    "    ax1.set_ylim(-5*(c/v_a.value)**2, +5*(c/v_a.value)**2)\n",
    "    ax1.set_xlabel('$\\omega$'); ax1.set_ylabel('$n_\\perp^2$')    \n",
    "    ax2.set_xlim(1 - 1/2, 1 + 1/2); ax2.set_ylim(bottom=-2, top=4)\n",
    "    ax2.set_xlabel('$\\omega/\\Omega_e$'); ax2.set_ylabel('$n_\\perp^2$')\n",
    "    \n",
    "    fig.suptitle('Electron Whistler Dispersion Relation')"
   ]
  },
  {
   "cell_type": "code",
   "execution_count": 8,
   "id": "5b314c8d",
   "metadata": {
    "slideshow": {
     "slide_type": "subslide"
    }
   },
   "outputs": [
    {
     "data": {
      "application/vnd.jupyter.widget-view+json": {
       "model_id": "bf343f5803ce41c0a2f20db8fa91a212",
       "version_major": 2,
       "version_minor": 0
      },
      "text/plain": [
       "interactive(children=(IntSlider(value=3, description='B0', max=9, min=-3), IntSlider(value=19, description='ni…"
      ]
     },
     "metadata": {},
     "output_type": "display_data"
    },
    {
     "data": {
      "text/plain": [
       "<function __main__.plot_electron_whistler(B0, ni)>"
      ]
     },
     "execution_count": 8,
     "metadata": {},
     "output_type": "execute_result"
    }
   ],
   "source": [
    "interact(plot_electron_whistler, B0=3, ni=19)"
   ]
  },
  {
   "cell_type": "markdown",
   "id": "96e635ea",
   "metadata": {
    "slideshow": {
     "slide_type": "subslide"
    }
   },
   "source": [
    "### Numerical Resolution of the Dispersion Relation\n",
    "Here we solve the dispersion relation numerically using the [PlasmaPy](https://docs.plasmapy.org/en/stable/api/plasmapy.dispersion.analytical.stix_.stix.html#stix) Python library. Here, both wave modes are solved at the same time and will appear in different colors in the plot below. Plain lines correspond to propagative modes ($n^2 > 0$) and dashed lines to evanescent modes ($n^2<0$)."
   ]
  },
  {
   "cell_type": "code",
   "execution_count": 9,
   "id": "52994695",
   "metadata": {
    "slideshow": {
     "slide_type": "fragment"
    }
   },
   "outputs": [],
   "source": [
    "w = 2*np.pi*np.logspace(5.5, 11, 10001) * u.rad / u.s\n",
    "ni = [1e18] * u.m**-3\n",
    "B0 = 2 * u.T\n",
    "theta = 0 * u.deg\n",
    "ions = ['p']\n",
    "\n",
    "inputs = {\n",
    "    \"B\": B0,\n",
    "    \"w\": w,\n",
    "    \"ions\": ions,\n",
    "    \"n_i\": ni,\n",
    "    \"theta\": theta,\n",
    "}\n",
    "# Solving for k(omega)\n",
    "k =  pp.dispersion.analytical.stix(**inputs)\n",
    "# reexpressing as n^2 as above\n",
    "n_perp = (k.T /(w/c) )**2  # n^2 = (k/k0)^2"
   ]
  },
  {
   "cell_type": "code",
   "execution_count": 10,
   "id": "7c21bd6a",
   "metadata": {
    "slideshow": {
     "slide_type": "-"
    }
   },
   "outputs": [],
   "source": [
    "# filtering negative and positive n^2 for convenience plotting in loglog\n",
    "n_sq_neg1, n_sq_pos1 = filter_negative_and_positive_values(n_perp[0,:])\n",
    "n_sq_neg2, n_sq_pos2 = filter_negative_and_positive_values(n_perp[3,:])"
   ]
  },
  {
   "cell_type": "code",
   "execution_count": 11,
   "id": "469dd9f1",
   "metadata": {
    "slideshow": {
     "slide_type": "-"
    }
   },
   "outputs": [
    {
     "name": "stderr",
     "output_type": "stream",
     "text": [
      "c:\\Users\\JH218595\\Documents\\PlasmaPy\\plasmapy\\utils\\decorators\\checks.py:1407: RelativityWarning: Alfven_speed is yielding a velocity that is 14.547% of the speed of light. Relativistic effects may be important.\n",
      "  warnings.warn(\n"
     ]
    }
   ],
   "source": [
    "# Define some particular quantities\n",
    "v_a = pp.formulary.Alfven_speed(B0, ni, 'p')\n",
    "Omega_i = pp.formulary.frequencies.gyrofrequency(B0, 'p')\n",
    "Omega_e = pp.formulary.frequencies.gyrofrequency(B0, 'e-')\n",
    "omega_pi = pp.formulary.frequencies.plasma_frequency(ni, 'p')\n",
    "omega_pe = pp.formulary.frequencies.plasma_frequency(ni, 'e-')\n",
    "omega_p = np.sqrt(omega_pi**2 + omega_pe**2)\n",
    "omega_L = (Omega_i-Omega_e)/2 + np.sqrt(((Omega_i + Omega_e)/2)**2 + omega_p**2)\n",
    "omega_R = (Omega_e-Omega_i)/2 + np.sqrt(((Omega_i + Omega_e)/2)**2 + omega_p**2)"
   ]
  },
  {
   "cell_type": "code",
   "execution_count": 12,
   "id": "ce2c2666",
   "metadata": {
    "slideshow": {
     "slide_type": "subslide"
    }
   },
   "outputs": [
    {
     "data": {
      "text/plain": [
       "Text(0.5, 1.0, 'Cold Plasma Dispersion - Parallel Propagation')"
      ]
     },
     "execution_count": 12,
     "metadata": {},
     "output_type": "execute_result"
    },
    {
     "data": {
      "image/png": "[encoded data removed]",
      "text/plain": [
       "<Figure size 640x480 with 1 Axes>"
      ]
     },
     "metadata": {},
     "output_type": "display_data"
    }
   ],
   "source": [
    "fig, ax = plt.subplots()\n",
    "ax.axhline(1, color='k', ls='--')\n",
    "ax.axhline((c/v_a.value)**2, color='gray', ls='--')\n",
    "ax.axvline(Omega_i.value, color='gray', ls='--')\n",
    "ax.axvline(Omega_e.value, color='gray', ls='--')\n",
    "ax.axvline(omega_L.value, color='blue', ls='--')\n",
    "ax.axvline(omega_R.value, color='red', ls='--')\n",
    "ax.loglog(w, np.abs(n_sq_pos1), lw=2)\n",
    "ax.loglog(w, np.abs(n_sq_neg1), lw=2, color='C0', ls='--')\n",
    "ax.loglog(w, np.abs(n_sq_pos2), lw=2)\n",
    "ax.loglog(w, np.abs(n_sq_neg2), lw=2, color='C1', ls='--')\n",
    "ax.set_ylim(0.1, 300)\n",
    "ax.set_xlim(1e6, 1e11)\n",
    "ax.set_xlabel('$\\omega$'); ax.set_ylabel('$n^2$')\n",
    "ax.set_title('Cold Plasma Dispersion - Parallel Propagation')"
   ]
  },
  {
   "cell_type": "code",
   "execution_count": 13,
   "id": "cb3985e5",
   "metadata": {
    "slideshow": {
     "slide_type": "subslide"
    }
   },
   "outputs": [
    {
     "data": {
      "text/plain": [
       "Text(0.5, 1.0, 'Cold Plasma Dispersion - Parallel Propagation (normalized and zoomed)')"
      ]
     },
     "execution_count": 13,
     "metadata": {},
     "output_type": "execute_result"
    },
    {
     "data": {
      "image/png": "[encoded data removed]",
      "text/plain": [
       "<Figure size 640x480 with 1 Axes>"
      ]
     },
     "metadata": {},
     "output_type": "display_data"
    }
   ],
   "source": [
    "fig, ax = plt.subplots()\n",
    "ax.axhline(1, color='k', ls='--')\n",
    "ax.axvline(Omega_e.value/Omega_e.value, color='gray', ls='--')\n",
    "ax.axvline(omega_R.value/Omega_e.value, color='red', ls='--')\n",
    "ax.semilogy(w/Omega_e.value, np.abs(n_sq_pos1), lw=2)  # pos n_perp^2 in plain lines\n",
    "ax.semilogy(w/Omega_e.value, np.abs(n_sq_neg1), lw=2, color='C0', ls='--')  # neg n_perp^2 in dashed lines\n",
    "ax.semilogy(w/Omega_e.value, np.abs(n_sq_pos2), lw=2)\n",
    "ax.semilogy(w/Omega_e.value, np.abs(n_sq_neg2), lw=2, color='C1', ls='--')\n",
    "ax.set_ylim(0.1, 300)\n",
    "ax.set_xlim(1 - 0.2, 1 + 0.2)\n",
    "ax.set_xlabel('$\\omega/\\Omega_e$'); ax.set_ylabel('$n^2$')\n",
    "ax.set_title('Cold Plasma Dispersion - Parallel Propagation (normalized and zoomed)')"
   ]
  },
  {
   "cell_type": "markdown",
   "id": "8cd30091",
   "metadata": {
    "slideshow": {
     "slide_type": "slide"
    }
   },
   "source": [
    "## Perpendicular Propagation: $\\underline{k}=k\\underline{\\hat{x}}$\n",
    "The wave equations then reads:\n",
    "$$\n",
    "\\begin{cases}\n",
    "S E_x & - iD E_y & & = 0 \\\\\n",
    "iD E_x & + (S - n^2) E_y & &= 0 \\\\\n",
    "& & (P - n^2) E_z &= 0\n",
    "\\end{cases}\n",
    "$$\n",
    "Again, there is a complete decoupling between perpendicular and parallel components, they have to be studied separately."
   ]
  },
  {
   "cell_type": "markdown",
   "id": "cef6f98c",
   "metadata": {
    "slideshow": {
     "slide_type": "subslide"
    }
   },
   "source": [
    "### Parallel Component: Ordinary mode\n",
    "* The dispersion relation is\n",
    "$$\n",
    "n^2 = P = 1 - \\frac{\\omega_{pi}^2}{\\omega^2} - \\frac{\\omega_{pe}^2}{\\omega^2}\n",
    "$$\n",
    "* cutoff: $\\omega^2=\\sum_s \\omega_{ps}^2$\n",
    "* resonance: no resonance\n",
    "* limits:\n",
    "    * $\\omega \\to 0$: $n^2 \\to -\\infty$\n",
    "    * $\\omega \\to +\\infty$: $n^2 \\to 1$\n",
    "* polarization: $E_x=E_y=0$\n",
    "    * electric field aligned with $B_0$\n",
    "* independant of $B_0$\n",
    "    * convenient for diagnostics, ex: interferometry ($\\omega \\gg \\omega_{pe}$)\n",
    "    "
   ]
  },
  {
   "cell_type": "code",
   "execution_count": 24,
   "id": "29e3d5f6",
   "metadata": {
    "slideshow": {
     "slide_type": "subslide"
    }
   },
   "outputs": [],
   "source": [
    "def n_square_Omode(omega, B0=3*u.T, ni=1e15/u.m**3):\n",
    "    omega_pi = pp.formulary.frequencies.plasma_frequency(ni, 'p')\n",
    "    omega_pe = pp.formulary.frequencies.plasma_frequency(ni, 'e-')    \n",
    "    return 1 - omega_pe**2/omega**2 - omega_pi**2/omega**2"
   ]
  },
  {
   "cell_type": "code",
   "execution_count": 25,
   "id": "f2274b93",
   "metadata": {
    "slideshow": {
     "slide_type": "subslide"
    }
   },
   "outputs": [],
   "source": [
    "def plot_Omode(B0, ni):\n",
    "    # B0 in T, ni in log10\n",
    "    w = 2*np.pi*np.logspace(5.5, 11, 10001) * u.rad / u.s\n",
    "    B0 = B0*u.T\n",
    "    ni = 10**ni/u.m**3\n",
    "    # various quantities\n",
    "    omega_pe = pp.formulary.frequencies.plasma_frequency(ni, 'e-')\n",
    "    omega_p = np.sqrt(omega_pi**2 + omega_pe**2)\n",
    "    # n^2 vs w\n",
    "    n_sq_neg_ion, n_sq_pos_ion = filter_negative_and_positive_values(n_square_Omode(w, B0, ni))\n",
    "        \n",
    "    fig, ax = plt.subplots()\n",
    "    # limits\n",
    "    ax.axhline(1, color='darkred', ls='--')    \n",
    "    # Cutoff and Resonances\n",
    "    ax.axvline(omega_pe.value/omega_pe.value, color='gray', ls='--')\n",
    "    # n^2 vs w\n",
    "    ax.plot(w/omega_pe.value, n_sq_pos_ion, lw=2)\n",
    "    ax.plot(w/omega_pe.value, n_sq_neg_ion, lw=2, color='C0', ls='--')\n",
    "    # axis properties\n",
    "    ax.set_ylim(-10, +2)\n",
    "    ax.set_xlabel('$\\omega/\\omega_{pe}$'); ax.set_ylabel('$n_\\perp^2$')\n",
    "    ax.set_title('O-mode Dispersion Relation')"
   ]
  },
  {
   "cell_type": "code",
   "execution_count": 27,
   "id": "bcb8f022",
   "metadata": {
    "slideshow": {
     "slide_type": "subslide"
    }
   },
   "outputs": [
    {
     "data": {
      "application/vnd.jupyter.widget-view+json": {
       "model_id": "cada9c44836f4a5f87c4a4e6a9cbf6f1",
       "version_major": 2,
       "version_minor": 0
      },
      "text/plain": [
       "interactive(children=(IntSlider(value=3, description='B0', max=9, min=-3), IntSlider(value=19, description='ni…"
      ]
     },
     "metadata": {},
     "output_type": "display_data"
    },
    {
     "data": {
      "text/plain": [
       "<function __main__.plot_Omode(B0, ni)>"
      ]
     },
     "execution_count": 27,
     "metadata": {},
     "output_type": "execute_result"
    }
   ],
   "source": [
    "interact(plot_Omode, B0=3, ni=19) # note it does not depends on B0"
   ]
  },
  {
   "cell_type": "markdown",
   "id": "9252a24f",
   "metadata": {
    "slideshow": {
     "slide_type": "subslide"
    }
   },
   "source": [
    "### Perpendicular Component: eXtraorinary mode\n",
    "From:\n",
    "$$\n",
    "\\begin{cases}\n",
    "S E_x & - iD E_y & & = 0 \\\\\n",
    "iD E_x & + (S - n^2) E_y & &= 0 \\\\\n",
    "\\end{cases}\n",
    "$$\n",
    "* the dispersion relation is \n",
    "$$\n",
    "n^2 = \\frac{S^2 - D^2}{S} = \\frac{RL}{S}\n",
    "$$\n",
    "* 2 cutoffs:\n",
    "$$\n",
    "\\omega = \\pm \\frac{\\Omega_e - \\Omega_i}{2} + \\sqrt{\\left( \\frac{\\Omega_i + \\Omega_e}{2} \\right)^2 + \\omega_p^2}\n",
    "$$\n",
    "* 2 resonances:\n",
    "$$\n",
    "\\omega = \\frac{\\omega_{uh} - \\omega_{lh}}{2} \\pm \\sqrt{\\left( \\frac{\\omega_{pi} - \\omega_{pe}}{2} \\right)^2 + \\omega_{pe}^2 \\omega_{pi}^2}\n",
    "$$\n",
    "where $\\omega_{uh}$ and $\\omega_{lh}$ are the *upper hybrid* and *lower hybrid* frequencies defined by: \n",
    "$\\omega_{uh}^2 = \\omega_{pe}^2 + \\Omega_{e}^2$ and $\\omega_{lh}^2 = \\omega_{pi}^2 + \\Omega_{i}^2$\n",
    "\n",
    "* limits:\n",
    "    * $\\omega \\to 0$: $n^2 \\to c^2/v_a^2$ like for whistlers\n",
    "    * $\\omega \\to +\\infty$: $n^2 \\to 1$\n",
    "    "
   ]
  },
  {
   "cell_type": "markdown",
   "id": "da4a8bb3",
   "metadata": {
    "slideshow": {
     "slide_type": "subslide"
    }
   },
   "source": [
    "* polarization: $E_z = $ and $E_x/E_y = i D/S$, i.e. an elliptic polarization with $E$ perpendicular to $B_0$\n",
    "    * as $\\omega\\to\\Omega_i$, $E_x/E_y \\to -i$ ($E_+\\to0$): the electric component which rotates in the same direction as the ions vanishes at the ion cyclotron frequency\n",
    "    * as $\\omega\\to\\Omega_e$, $E_x/E_y \\to i$ ($E_-\\to0$): the electric component which rotates in the same direction as the electrons vanishes at the electron cyclotron frequency  \n",
    "    * This phenomena is called the *screening effect* and results in significant reduction of the interaction between the wave and the particles at the cyclotron resonance! This has important consequence for Ion Cyclotron Resonance Heating in particular: additional ion species must be incorpored in the plasma in order to circumvent this effect by heating a *minority* species, while the propagation properties of the wave are dicted by the *majority* species."
   ]
  },
  {
   "cell_type": "code",
   "execution_count": 28,
   "id": "5170167d",
   "metadata": {
    "slideshow": {
     "slide_type": "subslide"
    }
   },
   "outputs": [],
   "source": [
    "def n_square_Xmode(omega, B0=3*u.T, ni=1e15/u.m**3):\n",
    "    species = ['e','D+']\n",
    "    L, R, P = pp.formulary.dielectric.cold_plasma_permittivity_LRP(B0, species, ni, omega)\n",
    "    S, D, P = pp.formulary.dielectric.cold_plasma_permittivity_SDP(B0, species, ni, omega)\n",
    "    return R*L/S"
   ]
  },
  {
   "cell_type": "code",
   "execution_count": 29,
   "id": "bdb305bf",
   "metadata": {
    "slideshow": {
     "slide_type": "subslide"
    }
   },
   "outputs": [],
   "source": [
    "def plot_Xmode(B0, ni):\n",
    "    # B0 in T, ni in log10\n",
    "    w = 2*np.pi*np.logspace(5.5, 11, 10001) * u.rad / u.s\n",
    "    B0 = B0*u.T\n",
    "    ni = 10**ni/u.m**3\n",
    "    # various quantities\n",
    "    omega_pe = pp.formulary.frequencies.plasma_frequency(ni, 'e-')\n",
    "    omega_lh = pp.formulary.frequencies.lower_hybrid_frequency(B0, n_i=ni, ion=['D+'])\n",
    "    omega_uh = pp.formulary.frequencies.upper_hybrid_frequency(B0, n_e=ni)\n",
    "    Omega_e = pp.formulary.frequencies.gyrofrequency(B0, 'e-')\n",
    "    # n^2 vs w\n",
    "    n_sq_neg_ion, n_sq_pos_ion = filter_negative_and_positive_values(n_square_Xmode(w, B0, [ni]))\n",
    "        \n",
    "    fig, ax = plt.subplots()\n",
    "    # limits\n",
    "    ax.axhline(1, color='darkred', ls='--')    \n",
    "    # Cutoff and Resonances\n",
    "    ax.axvline(omega_lh.value/Omega_e.value, color='red', ls='--')\n",
    "    ax.axvline(omega_uh.value/Omega_e.value, color='blue', ls='--')\n",
    "    \n",
    "    # n^2 vs w\n",
    "    ax.plot(w/Omega_e.value, n_sq_pos_ion, lw=2)\n",
    "    ax.plot(w/Omega_e.value, n_sq_neg_ion, lw=2, color='C0', ls='--')\n",
    "    # axis properties\n",
    "    ax.set_ylim(-5, +5)\n",
    "    ax.set_xlabel('$\\omega$/$\\Omega_e$'); ax.set_ylabel('$n_\\perp^2$')\n",
    "    ax.set_title('X-mode Dispersion Relation')"
   ]
  },
  {
   "cell_type": "code",
   "execution_count": 31,
   "id": "f493419d",
   "metadata": {
    "slideshow": {
     "slide_type": "subslide"
    }
   },
   "outputs": [
    {
     "data": {
      "application/vnd.jupyter.widget-view+json": {
       "model_id": "ad3f1529376c4c53a2d8223e21e0c2df",
       "version_major": 2,
       "version_minor": 0
      },
      "text/plain": [
       "interactive(children=(IntSlider(value=3, description='B0', max=9, min=-3), IntSlider(value=19, description='ni…"
      ]
     },
     "metadata": {},
     "output_type": "display_data"
    },
    {
     "data": {
      "text/plain": [
       "<function __main__.plot_Xmode(B0, ni)>"
      ]
     },
     "execution_count": 31,
     "metadata": {},
     "output_type": "execute_result"
    }
   ],
   "source": [
    "interact(plot_Xmode, B0=3, ni=19) "
   ]
  },
  {
   "cell_type": "markdown",
   "id": "0e680a90",
   "metadata": {
    "slideshow": {
     "slide_type": "subslide"
    }
   },
   "source": [
    "### Numerical Solving of the Dispersion Relation"
   ]
  },
  {
   "cell_type": "code",
   "execution_count": 32,
   "id": "ecaade64",
   "metadata": {
    "slideshow": {
     "slide_type": "subslide"
    }
   },
   "outputs": [],
   "source": [
    "w = 2*np.pi*np.logspace(7, 11, 10001) * u.rad / u.s\n",
    "ni = [1e18] * u.m**-3\n",
    "B0 = 2 * u.T\n",
    "theta = 90 * u.deg\n",
    "ions = ['p']\n",
    "\n",
    "inputs = {\n",
    "    \"B\": B0,\n",
    "    \"w\": w,\n",
    "    \"ions\": ions,\n",
    "    \"n_i\": ni,\n",
    "    \"theta\": theta,\n",
    "}\n",
    "\n",
    "k =  pp.dispersion.analytical.stix(**inputs)\n",
    "n_perp = (k.T /(w/c) )**2  # n^2 = (k/k0)^2"
   ]
  },
  {
   "cell_type": "code",
   "execution_count": 33,
   "id": "6fc8dc1b",
   "metadata": {
    "slideshow": {
     "slide_type": "-"
    }
   },
   "outputs": [],
   "source": [
    "# filtering negative and positive n^2 for convenience plotting in loglog\n",
    "n_sq_neg1, n_sq_pos1 = filter_negative_and_positive_values(n_perp[0,:])\n",
    "n_sq_neg2, n_sq_pos2 = filter_negative_and_positive_values(n_perp[3,:])"
   ]
  },
  {
   "cell_type": "code",
   "execution_count": 34,
   "id": "dd538441",
   "metadata": {
    "slideshow": {
     "slide_type": "-"
    }
   },
   "outputs": [],
   "source": [
    "# Define some particular quantities\n",
    "v_a = pp.formulary.Alfven_speed(B0, ni, 'p')\n",
    "Omega_i = pp.formulary.frequencies.gyrofrequency(B0, 'p')\n",
    "Omega_e = pp.formulary.frequencies.gyrofrequency(B0, 'e-')\n",
    "omega_pi = pp.formulary.frequencies.plasma_frequency(ni, 'p')\n",
    "omega_pe = pp.formulary.frequencies.plasma_frequency(ni, 'e-')\n",
    "omega_p = np.sqrt(omega_pi**2 + omega_pe**2)"
   ]
  },
  {
   "cell_type": "code",
   "execution_count": 35,
   "id": "ec1f9053",
   "metadata": {
    "slideshow": {
     "slide_type": "subslide"
    }
   },
   "outputs": [
    {
     "data": {
      "text/plain": [
       "Text(0, 0.5, '$n_\\\\perp^2$')"
      ]
     },
     "execution_count": 35,
     "metadata": {},
     "output_type": "execute_result"
    },
    {
     "data": {
      "image/png": "[encoded data removed]",
      "text/plain": [
       "<Figure size 640x480 with 1 Axes>"
      ]
     },
     "metadata": {},
     "output_type": "display_data"
    }
   ],
   "source": [
    "fig, ax = plt.subplots()\n",
    "ax.axhline(1, color='k', ls='--')\n",
    "ax.axhline((c/v_a.value)**2, color='gray', ls='--')\n",
    "ax.axvline(Omega_i.value, color='gray', ls='--')\n",
    "ax.axvline(Omega_e.value, color='gray', ls='--')\n",
    "ax.axvline(omega_pi.value, color='green', ls='--')\n",
    "ax.axvline(omega_pe.value, color='green', ls='--')\n",
    "ax.loglog(w, np.abs(n_sq_pos1), lw=2)  # pos n_perp^2 in plain lines\n",
    "ax.loglog(w, np.abs(n_sq_neg1), lw=2, color='C0', ls='--') # neg n_perp^2 in dashed lines\n",
    "ax.loglog(w, np.abs(n_sq_pos2), lw=2)\n",
    "ax.loglog(w, np.abs(n_sq_neg2), lw=2, color='C1', ls='--')\n",
    "ax.set_ylim(bottom=0.1, top=1e3)\n",
    "ax.set_xlabel('$\\omega$'); ax.set_ylabel('$n_\\perp^2$')"
   ]
  },
  {
   "cell_type": "markdown",
   "id": "f3f910cc",
   "metadata": {
    "slideshow": {
     "slide_type": "slide"
    }
   },
   "source": [
    "## Arbitrary Propagation Angle\n",
    "* The case of arbitrary propagation angle with respect to the confining magnetic field direction is conceptually similar\n",
    "    * always two distincts modes in a cold plasma \n",
    "    * but more difficult to treat analytically.\n",
    "* When the propagation angle varies from perpendicular to parallel:\n",
    "    * X-mode transforms in one of the two whistler modes\n",
    "    * and O-mode becomes the other whistler\n",
    "* In some particular cases, however, an analytical treatment is possible"
   ]
  },
  {
   "cell_type": "markdown",
   "id": "8a62f5c2",
   "metadata": {
    "slideshow": {
     "slide_type": "subslide"
    }
   },
   "source": [
    "### Intermediate range of frequencies\n",
    "When \n",
    "$$ \\Omega_i, \\omega_{pi} \\ll \\omega \\ll |\\Omega_e|, \\omega_{pe} $$\n",
    "Using $n_\\perp^2 = n^2 - n_\\parallel^2$, the two solutions of the dispersion relation can be written approximatively as:\n",
    "$$\n",
    "n_{\\perp, F}^2 = - \\frac{(n_\\parallel^2 - R)(n_\\parallel^2 - L}{n_\\parallel^2 - S}\n",
    "$$\n",
    "and\n",
    "$$\n",
    "n_{\\perp, S}^2 = - \\frac{P}{S} (n^2_\\parallel - S)\n",
    "$$\n",
    "Where the labels $S$ and $F$ stands for \"Slow\" and \"Fast\":\n",
    "* generally $n_{\\perp, S} \\gg n_{\\perp, F}$\n",
    "* so the phase velocities ($v_\\phi = c/n$) of the slow wave is smaller than the phase velocity of the fast wave\n",
    "* hence their names\n",
    "\n",
    "* $n_{\\perp, S}^2 \\to \\infty$ for $S\\to 0$: *lower hybrid resonance*\n",
    "* Its associated polarization is $E_x/E_z \\approx n_\\perp / n_\\parallel = \\sqrt{-P/S}$ which shows that $\\underline{E}$ is parallel to $\\underline{k}$ ($\\underline{n_\\perp} = \\underline{n} \\cdot \\underline{\\hat{x}}$ per def) and the wave becomes electrostatic as it approaches the resonance.\n",
    "\n"
   ]
  },
  {
   "cell_type": "markdown",
   "id": "268a1c99",
   "metadata": {
    "slideshow": {
     "slide_type": "subslide"
    }
   },
   "source": [
    "### Alfvèn Waves\n",
    "In the MHD Limit, that is for $\\omega \\ll \\Omega_i$, the cold dielectric tensor expressions simplify and it is possible to express the dispersion relation for an arbitrary angle w.r.t. magnetic field. Two wave modes are then found:\n",
    "* $E_x\\neq 0$, $E_y=E_z=0$: Torsional mode\n",
    "* $E_y\\neq 0$; $E_x=E_z=0$: Compressional mode"
   ]
  },
  {
   "cell_type": "code",
   "execution_count": null,
   "id": "b627100d",
   "metadata": {},
   "outputs": [],
   "source": []
  }
 ],
 "metadata": {
  "celltoolbar": "Diaporama",
  "kernelspec": {
   "display_name": "Python 3 (ipykernel)",
   "language": "python",
   "name": "python3"
  },
  "language_info": {
   "codemirror_mode": {
    "name": "ipython",
    "version": 3
   },
   "file_extension": ".py",
   "mimetype": "text/x-python",
   "name": "python",
   "nbconvert_exporter": "python",
   "pygments_lexer": "ipython3",
   "version": "3.10.8"
  },
  "livereveal": {
   "autolaunch": true
  },
  "toc": {
   "base_numbering": 1,
   "nav_menu": {},
   "number_sections": true,
   "sideBar": true,
   "skip_h1_title": true,
   "title_cell": "Table of Contents",
   "title_sidebar": "Contents",
   "toc_cell": false,
   "toc_position": {
    "height": "calc(100% - 180px)",
    "left": "10px",
    "top": "150px",
    "width": "428.8px"
   },
   "toc_section_display": true,
   "toc_window_display": true
  }
 },
 "nbformat": 4,
 "nbformat_minor": 5
}
