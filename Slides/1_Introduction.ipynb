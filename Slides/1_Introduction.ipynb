{
 "cells": [
  {
   "cell_type": "markdown",
   "id": "46d52a97",
   "metadata": {
    "slideshow": {
     "slide_type": "slide"
    }
   },
   "source": [
    "# Introduction"
   ]
  },
  {
   "cell_type": "code",
   "execution_count": null,
   "id": "aeb286a7",
   "metadata": {
    "slideshow": {
     "slide_type": "-"
    }
   },
   "outputs": [],
   "source": [
    "import IPython\n",
    "import plasmapy as pp\n",
    "import numpy as np\n",
    "import matplotlib.pyplot as plt\n",
    "from astropy import units as u"
   ]
  },
  {
   "cell_type": "markdown",
   "id": "ec54c39b",
   "metadata": {
    "cell_style": "split",
    "slideshow": {
     "slide_type": "slide"
    }
   },
   "source": [
    "## Imagine...\n",
    "\n",
    "\n",
    "You are a soldier during World War hearing the following sounds in your communication amplifiers while on the battle-field"
   ]
  },
  {
   "cell_type": "markdown",
   "id": "1ac2b82a",
   "metadata": {
    "cell_style": "split",
    "slideshow": {
     "slide_type": "-"
    }
   },
   "source": [
    "<img src=\"figures/WWI_radio_soldier.jpg\" width=\"500\" align=\"right\" alt=\"A U.S. Army portable radio transmitting station in Germany, 1919. (Image credit: U.S. Army)\"/>"
   ]
  },
  {
   "cell_type": "code",
   "execution_count": null,
   "id": "be71398e",
   "metadata": {
    "cell_style": "center",
    "slideshow": {
     "slide_type": "-"
    }
   },
   "outputs": [],
   "source": [
    "# source: https://portia.astrophysik.uni-kiel.de/~koeppen/VLF/Whistlers.html\n",
    "IPython.display.Audio(\"sounds/0608241821schoen_Martians.wav\")\n",
    "# NB: that sound very similar to an incoming grenade...   "
   ]
  },
  {
   "cell_type": "markdown",
   "id": "25154431",
   "metadata": {
    "cell_style": "center",
    "slideshow": {
     "slide_type": "subslide"
    }
   },
   "source": [
    "## \"Whistlers\" Waves\n",
    "    \n",
    "* In the 1800s, telegraph operators would sometimes here a whistle transmitting to other operators.\n",
    "  * Sounds attributed to problems with the wire, ignored or associated with folklore.\n",
    "* Electromagnetic waves between 1-30 kHz\n",
    "  * Which can be converted in sound waves (human hear 20 Hz - 20 kHz)\n",
    "* Named *Whistlers* by British WWI Radio Operators "
   ]
  },
  {
   "cell_type": "markdown",
   "id": "c7cec9d6",
   "metadata": {
    "slideshow": {
     "slide_type": "-"
    }
   },
   "source": [
    "<img src=\"figures/0608241821schoen_MartiansZoom.jpg\" width=\"600\" align=\"middle\"/>"
   ]
  },
  {
   "cell_type": "code",
   "execution_count": null,
   "id": "b9bb28db",
   "metadata": {
    "cell_style": "center",
    "slideshow": {
     "slide_type": "-"
    }
   },
   "outputs": [],
   "source": [
    "# Source: https://www.nasa.gov/feature/goddard/2017/nasa-listens-in-as-electrons-whistle-while-they-work/\n",
    "IPython.display.Audio(\"sounds/whistler_NASA.mp3\") "
   ]
  },
  {
   "cell_type": "markdown",
   "id": "10c8bd61",
   "metadata": {
    "cell_style": "split",
    "slideshow": {
     "slide_type": "subslide"
    }
   },
   "source": [
    "### Theses sound are in fact radio waves produced by lightning.\n",
    "* lightning energy is radiated as electromagnetic waves over a very broad spectrum of frequencies\n",
    "* Some waves travel away from Earth\n",
    "  * and then come back again\n",
    "  * following the Earth's magnetic field lines.\n",
    "  * They pass through the magnetosphere/ plasmasphere/ionosphere.\n",
    "* These waves are highly dispersed\n",
    "    * travel faster at higher frequencies\n",
    "    * and slower at lower frequencies\n",
    "    * as they travel thousands of kilometers by the magnetized plasma\n",
    "* one will first detect the higher frequencies and later the lower frequencies.\n",
    "* Results a musically descending tone that sounds like a whistle, hence the name: *whistlers*"
   ]
  },
  {
   "cell_type": "markdown",
   "id": "e5aaec6d",
   "metadata": {
    "cell_style": "split",
    "slideshow": {
     "slide_type": "-"
    }
   },
   "source": [
    "<img src=\"figures/magnetosphere_combined.jpg\" align=\"right\" width=\"400\" alt=\"https://vlfstanford.ku.edu.tr/research_topic_inlin/introduction-whistler-waves-magnetosphere/\" />"
   ]
  },
  {
   "cell_type": "markdown",
   "id": "49c18b7a",
   "metadata": {
    "cell_style": "split",
    "slideshow": {
     "slide_type": "slide"
    }
   },
   "source": [
    "## Examples of Waves in Plasmas\n",
    "\n",
    "Plasma-wave interactions occur in:\n",
    "\n",
    "### Astrophysical phenomenon\n",
    "#### Radio propagation (reflection on or transmission by/through the ionosphere)\n",
    "\n",
    "<img src=\"figures/800px-IonosphereMUF.png\" width=\"600\" alt=\"https://commons.wikimedia.org/wiki/File:IonosphereMUF.png\"/>"
   ]
  },
  {
   "cell_type": "markdown",
   "id": "3e08c3cc",
   "metadata": {
    "cell_style": "split",
    "slideshow": {
     "slide_type": "-"
    }
   },
   "source": [
    "<img src=\"figures/Marconi_at_Signal_Hill_with_instruments_used_to_receive_the_first_Transatlantic_signals_-_December_1901.jpg\" alt=\"https://fr.m.wikipedia.org/wiki/Fichier:Marconi_at_Signal_Hill_with_instruments_used_to_receive_the_first_Transatlantic_signals_-_December_1901.jpg\"/>\n",
    "\n",
    "Marconi at Signal Hill with instruments used to receive the first Transatlantic signals (dec 1901)"
   ]
  },
  {
   "cell_type": "markdown",
   "id": "615e42b4",
   "metadata": {
    "cell_style": "split",
    "slideshow": {
     "slide_type": "subslide"
    }
   },
   "source": [
    "#### Communication Black-out during spacecraft atmospheric entry\n",
    "Caused by an envelope of ionized air around the craft\n",
    " * Created by the heat from the compression of the atmosphere by the craft (~Mach 10, 12000km/h).\n",
    " * Ionized air interferes with radio signals.\n",
    " * Communications blackouts last for several minutes (~3-6 min)\n",
    " \n",
    "\n"
   ]
  },
  {
   "cell_type": "markdown",
   "id": "47059be0",
   "metadata": {
    "cell_style": "split",
    "slideshow": {
     "slide_type": "-"
    }
   },
   "source": [
    "<img src=\"figures/craft_entry.png\" alt=\"https://www.scientificamerican.com/article/piercing-the-plasma/\" />"
   ]
  },
  {
   "cell_type": "markdown",
   "id": "f97912a2",
   "metadata": {
    "cell_style": "split",
    "slideshow": {
     "slide_type": "subslide"
    }
   },
   "source": [
    "#### Anomalous Heating of the Solar Corona\n",
    "Why the solar corona (1 million K)has a temperature several orders of magnitude higher than the photosphere (6000 K)?\n",
    "* Ion heating by Alfvén waves is considered as a possible mechanism\n",
    "\n",
    "[Video](https://www.youtube.com/watch?v=2vyT4R9IJck): motions of coronal plasma (NCAR's Coronal Multi-channel Polarimeter instrument), caused by Alfvén waves.\n",
    "* Ligh Intensity (upper left)\n",
    "* Emitted Line Width (upper right)\n",
    "* Velocity (lower left). \n",
    "* Filtered velocity data to show only oscillations that recur periodically every five minutes (lower right).\n",
    "\n"
   ]
  },
  {
   "cell_type": "code",
   "execution_count": null,
   "id": "630cb2a1",
   "metadata": {
    "cell_style": "split",
    "slideshow": {
     "slide_type": "-"
    }
   },
   "outputs": [],
   "source": [
    "IPython.display.Video(\"figures/Sun's Alfvén Waves Revealed - Providing Clues to Corona's Heat, Solar Storms-2vyT4R9IJck.mp4\")"
   ]
  },
  {
   "cell_type": "markdown",
   "id": "48e78ffc",
   "metadata": {
    "cell_style": "split",
    "slideshow": {
     "slide_type": "subslide"
    }
   },
   "source": [
    "### Plasma Applications\n",
    "#### Plasma Lens\n",
    "\n",
    "* To create configurable antennas \n",
    "    * Divert a X-band radio waves\n",
    "    * No mechanical movement.\n",
    "    * Controlled by varying plasma density (pressure, current)\n",
    "   "
   ]
  },
  {
   "cell_type": "markdown",
   "id": "383ec066",
   "metadata": {
    "cell_style": "split",
    "slideshow": {
     "slide_type": "-"
    }
   },
   "source": [
    "<img src=\"figures/lentille-electromagnetique-a-plasma-bande-x.jpg\" alt=\"https://www.onera.fr/en/news/plasma-lens\" />\n",
    "\n",
    "<img src=\"figures/lentille-electromagnetique-a-plasma-bande-x-deviation.jpg\" alt=\"https://www.onera.fr/en/news/plasma-lens\" />"
   ]
  },
  {
   "cell_type": "markdown",
   "id": "d2634da9",
   "metadata": {
    "cell_style": "split",
    "slideshow": {
     "slide_type": "subslide"
    }
   },
   "source": [
    "#### Laser/Plasma Interactions\n",
    "* Plasma confinement in inertial fusion results from heavily non linear plasma wave (laser) interactions\n",
    "* Laser-driven plasma-waves electron accelerators"
   ]
  },
  {
   "cell_type": "markdown",
   "id": "e4390372",
   "metadata": {
    "cell_style": "split",
    "slideshow": {
     "slide_type": "-"
    }
   },
   "source": [
    "<img src=\"figures/explosion-des-parois.jpg\" alt=\"https://www-lmj.cea.fr/lmj-applications-defense.html\" />\n",
    "\n",
    "<img src=\"figures/laser-plasma-accelerator.png\" alt=\"https://www.stralsakerhetsmyndigheten.se/contentassets/e468bca69dce4972840b453f3cce41da/201904-dosimetry-in-environments-surrounding-a-laser-plasma-accelerator.pdf\" />"
   ]
  },
  {
   "cell_type": "markdown",
   "id": "f7b6ec02",
   "metadata": {
    "slideshow": {
     "slide_type": "subslide"
    }
   },
   "source": [
    "#### Magnetic Fusion\n",
    "RF waves used to:\n",
    "* diagnose (temperature, density, turbulence, MHD, ...)\n",
    "* heat plasma (plasma heating)\n",
    "* drive plasma current (current drive)\n",
    "\n",
    "<img src=\"figures/ToreSupra_Antennas.png\" alt=\"Tore Supra/WEST RF Antennes (IC, 2xLH, EC)\" />"
   ]
  },
  {
   "cell_type": "markdown",
   "id": "b9542a92",
   "metadata": {
    "slideshow": {
     "slide_type": "slide"
    }
   },
   "source": [
    "## Characteristic Frequencies and Lengths in a Magnetized Plasma\n",
    "* The theoretical description of high frequency waves in plasmas requires 'only' classical physics (Newton, Maxwell, statistics)\n",
    "* Fully Ionized Plasmas are unusual among macroscopic systems because:\n",
    "    * Interactions between charged particles are longrange\n",
    "    * Collisions are rare\n",
    "* So plasmas exhibit complex collective effects"
   ]
  },
  {
   "cell_type": "markdown",
   "id": "8347a861",
   "metadata": {
    "slideshow": {
     "slide_type": "subslide"
    }
   },
   "source": [
    "### Debye Length\n",
    "The _Debye Length_ $\\lambda_D$ is the range of direct interactions between charged particles through the Coulomb force and is given by:\n",
    "$$\n",
    "\\lambda_D \n",
    "= \n",
    "\\left( \\frac{k T_e}{n_e e^2} \\right)^{1/2} \n",
    "= \n",
    "2.351 \\times 10^4 \\left( \\frac{ T_{e\\mathrm{[keV]}} }{ n_{e\\mathrm{[cm^{-3}]}} }  \\right)^{1/2}\n",
    "$$\n",
    "\n",
    "At distance smaller than $\\lambda_D$:\n",
    "* Electric field is dominated by the Coulomb field of individual ions and electrons\n",
    "* Correlations between particles are strong, resulting in the Debye screening\n",
    "* Phenomena occuring at larger scales are not affected by the discrete nature of the charges\n",
    "\n",
    "We will only consider waves with wavelength much larger than $\\lambda_D$"
   ]
  },
  {
   "cell_type": "code",
   "execution_count": null,
   "id": "21f213c5",
   "metadata": {
    "slideshow": {
     "slide_type": "subslide"
    }
   },
   "outputs": [],
   "source": [
    "ne = np.logspace(9, 20, 11) * u.m**(-3)\n",
    "Te = np.logspace(-3, 2, 6) * u.keV"
   ]
  },
  {
   "cell_type": "code",
   "execution_count": null,
   "id": "c823eb53",
   "metadata": {
    "slideshow": {
     "slide_type": "fragment"
    }
   },
   "outputs": [],
   "source": [
    "fig, ax = plt.subplots(figsize=(8,4))\n",
    "[ax.loglog(ne, pp.formulary.Debye_length(_Te, ne), label=f'{_Te}') for _Te in Te]\n",
    "ax.set_xlabel(f'$n_e$ [{ne.unit}]'); ax.set_ylabel(f'$\\lambda_D$ [m]');\n",
    "ax.axvspan(1e9, 1e12, color='blue', alpha=0.2, label='ionosphere')\n",
    "ax.axvspan(1e18, 1e20, color='red', alpha=0.2, label='fusion')\n",
    "ax.legend(ncol=2); ax.grid(True, which='both')"
   ]
  },
  {
   "cell_type": "markdown",
   "id": "d8ebe492",
   "metadata": {
    "slideshow": {
     "slide_type": "subslide"
    }
   },
   "source": [
    "### Plasma Frequency\n",
    "* A plasma has a strong tendancy to maintain macroscopic charge neutrality. \n",
    "* The frequency of the oscillations arising when charge neutrality is locally disturbed is the (electron) *plasma* angular frequency:\n",
    "$$\n",
    "\\omega_{pe} \n",
    "= \\left( \\frac{e n_e}{m_e \\varepsilon_0} \\right)^{1/2}\n",
    "\\approx 56 \\sqrt{n_e}\n",
    "$$"
   ]
  },
  {
   "cell_type": "code",
   "execution_count": null,
   "id": "e27bb9af",
   "metadata": {
    "slideshow": {
     "slide_type": "-"
    }
   },
   "outputs": [],
   "source": [
    "pp.formulary.frequencies.plasma_frequency(n=1*u.m**(-3), particle='e-')"
   ]
  },
  {
   "cell_type": "markdown",
   "id": "560245d0",
   "metadata": {
    "slideshow": {
     "slide_type": "fragment"
    }
   },
   "source": [
    "or as a frequency:\n",
    "$$\n",
    "f_{pe} = \\frac{\\omega_{pe}}{2\\pi} \\approx 9 \\sqrt{n_e}\n",
    "$$"
   ]
  },
  {
   "cell_type": "code",
   "execution_count": null,
   "id": "80968e1a",
   "metadata": {
    "slideshow": {
     "slide_type": "-"
    }
   },
   "outputs": [],
   "source": [
    "pp.formulary.frequencies.plasma_frequency(n=1*u.m**(-3), particle='e-', to_hz=True)"
   ]
  },
  {
   "cell_type": "markdown",
   "id": "9dc3d0e3",
   "metadata": {
    "slideshow": {
     "slide_type": "subslide"
    }
   },
   "source": [
    "* electron plasma frequency can be related to the Debye length $\\lambda_D$ and thermal velocity $v_{th,e}$ as:\n",
    "$$\n",
    "\\lambda_D = \\frac{v_{th,e}}{\\sqrt{2} \\omega_{p,e}}\n",
    "$$\n",
    "with\n",
    "$$\n",
    "v_{th,e} = \\left( \\frac{2 T_e}{m_e} \\right)^{1/2}\n",
    "$$"
   ]
  },
  {
   "cell_type": "markdown",
   "id": "f36ca89d",
   "metadata": {
    "slideshow": {
     "slide_type": "fragment"
    }
   },
   "source": [
    "* All waves with frequency much smaller than $\\omega_{pe}$ propagate without appreciably perturbing charge neutrality\n",
    "* Plasmas behave like a high-pass filter:\n",
    "    * For a wave to go through, its frequency must be higher than the plasma frequency. \n",
    "    * Ex: Ionosphère only let high frequency signals to go through and reflect lower frequencies"
   ]
  },
  {
   "cell_type": "code",
   "execution_count": null,
   "id": "15113169",
   "metadata": {
    "slideshow": {
     "slide_type": "subslide"
    }
   },
   "outputs": [],
   "source": [
    "f_pe = pp.formulary.frequencies.plasma_frequency(ne, 'e-', to_hz=True)\n",
    "fig, ax = plt.subplots(figsize=(8,4))\n",
    "ax.loglog(ne, f_pe)\n",
    "ax.set_xlabel(f'$n_e$ [{ne.unit}]'); ax.set_ylabel('$f_{pe}$ [Hz]');\n",
    "ax.axvspan(1e9, 1e12, color='blue', alpha=0.2, label='ionosphere')\n",
    "ax.axvspan(1e18, 1e20, color='red', alpha=0.2, label='fusion')\n",
    "ax.legend(ncol=2); ax.grid(True, which='both')"
   ]
  },
  {
   "cell_type": "markdown",
   "id": "cf2f67ae",
   "metadata": {
    "slideshow": {
     "slide_type": "subslide"
    }
   },
   "source": [
    "### Cyclotron Frequency (Gyrofrequency)\n",
    "* In a magnetic field, charged particles move in helical paths following magnetic field lines\n",
    "* This gyration motion introduces additional characteristics for each charged particles:\n",
    "* *Cyclotron* (angular) frequency for species $s$:\n",
    "$$\n",
    "\\Omega_{cs} = \\frac{q_s Z_s B}{m_s c}\n",
    "$$\n",
    "* *Larmor* radius\n",
    "$$\n",
    "\\rho_{Ls} = \\frac{v_{ths}}{\\Omega_{cs}}\n",
    "$$"
   ]
  },
  {
   "cell_type": "code",
   "execution_count": null,
   "id": "5cf1d4ee",
   "metadata": {
    "slideshow": {
     "slide_type": "fragment"
    }
   },
   "outputs": [],
   "source": [
    "pp.formulary.frequencies.gyrofrequency(B=3.7*u.T, particle='H+', to_hz=True).to('MHz')"
   ]
  },
  {
   "cell_type": "code",
   "execution_count": null,
   "id": "78b50a7f",
   "metadata": {
    "slideshow": {
     "slide_type": "fragment"
    }
   },
   "outputs": [],
   "source": [
    "pp.formulary.frequencies.gyrofrequency(B=5*u.T, particle='e-', to_hz=True).to('GHz')"
   ]
  },
  {
   "cell_type": "markdown",
   "id": "0c240a4d",
   "metadata": {
    "slideshow": {
     "slide_type": "slide"
    }
   },
   "source": [
    "## References\n",
    "### Online Courses\n",
    "* R.Dumont, [Waves in Plasmas](https://hal-cea.archives-ouvertes.fr/cel-01463091/)\n",
    "* I.Hutchinson, J.Freidberg, [Introduction to Plasma Physics](https://ocw.mit.edu/courses/22-611j-introduction-to-plasma-physics-i-fall-2003/pages/lecture-notes/) (Chap V) (http://silas.psfc.mit.edu/introplasma/)\n",
    "* R.Fitzpatrick, [Plasma Physics](https://farside.ph.utexas.edu/teaching/plasma/Plasma/index.html)\n",
    "\n",
    "\n",
    "### Books\n",
    "* [IAEA Fusion Physics](https://www.iaea.org/publications/8879/fusion-physics) (free)\n",
    "* T.H. Stix, Waves in Plasmas (AIP, New York, 1997)\n",
    "* D.G. Swanson, Plasma Waves (Academic Press, San Diego, 1989)\n",
    "* M. Brambilla, Kinetic Theory of Plasma Waves (Clarendon Press, Oxford, 1998)\n",
    "* D.Jones, H.J.Doucet, J.M.Buzzi, An Introduction to the Linear Theories and Methods of Electrostatic Waves in Plasmas (Springer US, 1985)"
   ]
  },
  {
   "cell_type": "code",
   "execution_count": null,
   "id": "e9e8be75",
   "metadata": {},
   "outputs": [],
   "source": []
  }
 ],
 "metadata": {
  "celltoolbar": "Slideshow",
  "kernelspec": {
   "display_name": "Python 3 (ipykernel)",
   "language": "python",
   "name": "python3"
  },
  "language_info": {
   "codemirror_mode": {
    "name": "ipython",
    "version": 3
   },
   "file_extension": ".py",
   "mimetype": "text/x-python",
   "name": "python",
   "nbconvert_exporter": "python",
   "pygments_lexer": "ipython3",
   "version": "3.10.6"
  },
  "livereveal": {
   "autolaunch": true
  },
  "toc": {
   "base_numbering": 1,
   "nav_menu": {},
   "number_sections": true,
   "sideBar": true,
   "skip_h1_title": false,
   "title_cell": "Table of Contents",
   "title_sidebar": "Contents",
   "toc_cell": false,
   "toc_position": {},
   "toc_section_display": true,
   "toc_window_display": false
  }
 },
 "nbformat": 4,
 "nbformat_minor": 5
}
