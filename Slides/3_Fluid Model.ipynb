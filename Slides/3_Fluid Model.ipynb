{
 "cells": [
  {
   "cell_type": "markdown",
   "id": "b3dd755f",
   "metadata": {
    "slideshow": {
     "slide_type": "slide"
    }
   },
   "source": [
    "# Fluid Model"
   ]
  },
  {
   "cell_type": "markdown",
   "id": "43dada02",
   "metadata": {
    "slideshow": {
     "slide_type": "subslide"
    }
   },
   "source": [
    "## Summary of the Previous Lecture\n",
    "* Electromagnetic Waves can propagate in plasmas\n",
    "$$\n",
    "\\nabla \\times \\nabla \\times \\underline{\\mathcal{E}} + \\frac{1}{c^2} \\frac{\\partial^2 \\underline{\\mathcal{E}} }{\\partial t^2}\n",
    "= \n",
    "-\\mu_0 \\frac{\\partial}{\\partial t} \\left( \\underline{\\mathcal{J}} + \\underline{\\mathcal{J}_{ext}} \\right)\n",
    "$$\n",
    "\n",
    "* The linear theory of waves assumes that $\\underline{\\mathcal{J}}$ is proportional to $\\underline{\\mathcal{E}}$. \n",
    "* The plasma Conductivity needs to take into account that plasma is:\n",
    "    * anisotropic (motions are different along parallel and perp directions)\n",
    "    * time-dispersive\n",
    "    * space-dispersive\n",
    "* The generic constitutive relation is therefore complicated:\n",
    "$$\n",
    "\\underline{\\mathcal{J}} (\\underline{r}, t) \n",
    "=  \n",
    "\\int_{t'=-\\infty}^{t} d t'\n",
    "\\int d \\underline{r}' \\;\n",
    "\\underline{\\underline{\\sigma}}  (\\underline{r},\\underline{r}', t,t') \\cdot \\underline{\\mathcal{E}} (\\underline{r}', t') \n",
    "$$\n",
    "\n",
    "* In Stationary and Homogeneous plasmas, the previous relation becomes much simpler in the $(\\underline{k},\\omega)$ space:\n",
    "$$\n",
    "\\underline{J}(\\underline{k},\\omega)\n",
    "=\n",
    "\\underline{\\underline{\\sigma}}(\\underline{k},\\omega)\n",
    "\\cdot\n",
    "\\underline{E}(\\underline{k},\\omega)\n",
    "$$\n"
   ]
  },
  {
   "cell_type": "markdown",
   "id": "3466776f",
   "metadata": {
    "slideshow": {
     "slide_type": "subslide"
    }
   },
   "source": [
    "## Dispersion Relation\n",
    "Using a plane-wave expansion, Maxwell's Equations can be expressed in the $(\\underline{k},\\omega)$ domain as:\n",
    "$$ \\underline{k} \\times \\underline{E}(\\underline{k}, \\omega) = \\omega \\underline{B}(\\underline{k}, \\omega)$$\n",
    "$$ \\underline{k} \\times \\underline{B}(\\underline{k}, \\omega) = - \\omega \\mu_0 \\underline{\\underline{\\varepsilon}} \\cdot \\underline{E}(\\underline{k}, \\omega) - i\\omega \\mu_0 \\underline{J}_{ext}$$\n",
    "with\n",
    "$$\\underline{\\underline{\\varepsilon}}(\\underline{k}, \\omega)\n",
    "=\n",
    "\\varepsilon_0\\underline{\\underline{K}}\n",
    "=\n",
    "\\varepsilon_0 \\left( \\underline{\\underline{I}} + \\frac{i}{\\omega\\varepsilon_0} \\underline{\\underline{\\sigma}} \\right)\n",
    "$$\n",
    "when combined, it leads to the wave equation in the $(\\underline{k},\\omega)$ space:\n",
    "$$\n",
    "\\underline{k}\\times\\underline{k}\\times \\underline{E}(\\underline{k}, \\omega) + \\frac{\\omega^2}{c^2} \\underline{\\underline{K}} (\\underline{k}, \\omega)\\cdot \\underline{E}(\\underline{k}, \\omega)\n",
    "=\n",
    "- i \\omega \\mu_0 \\underline{J}_{ext}(\\underline{k}, \\omega)\n",
    "$$"
   ]
  },
  {
   "cell_type": "markdown",
   "id": "926f1c2e",
   "metadata": {
    "slideshow": {
     "slide_type": "subslide"
    }
   },
   "source": [
    "We are interested in how the wave propagate in the plasma as a response to an excitation located (far) away, outside the plasma:\n",
    "$$\n",
    "\\left(\n",
    "\\underline{k}\\times\\underline{k}\\times + \\frac{\\omega^2}{c^2} \\underline{\\underline{K}} (\\underline{k}, \\omega)\\cdot \n",
    "\\right)\n",
    "\\underline{E}(\\underline{k}, \\omega)\n",
    "=\n",
    "\\underline{\\underline{M}} \\cdot E \n",
    "= 0\n",
    "$$"
   ]
  },
  {
   "cell_type": "markdown",
   "id": "1a6b0dc3",
   "metadata": {
    "slideshow": {
     "slide_type": "fragment"
    }
   },
   "source": [
    "Hence, the non-trivial solutions of the wave equation are obtained from\n",
    "$$\n",
    "\\det \\underline{\\underline{M}} = 0\n",
    "$$\n",
    "which can be inverted to yield $\\omega = \\omega(\\underline{k})$, which is the *dispersion relation*."
   ]
  },
  {
   "cell_type": "markdown",
   "id": "2b69f657",
   "metadata": {
    "slideshow": {
     "slide_type": "slide"
    }
   },
   "source": [
    "## Cut-offs and Resonances\n",
    "The dispersion relation gives usefull information: \n",
    "* What kind of wave(s) can propagate (or not) for a given frequency and plasma parameters\n",
    "* *cut-offs*, corresponding to $k=0$\n",
    "* *resonances*, corresponding to $k\\to\\infty$\n",
    "\n",
    "We will come back to cut-off and resonance later."
   ]
  },
  {
   "cell_type": "markdown",
   "id": "21d92bbe",
   "metadata": {
    "slideshow": {
     "slide_type": "slide"
    }
   },
   "source": [
    "## Plasma Model\n",
    "### A hierarchy of Plasma Model\n",
    "From the _more computational intensive_ to the _more averaged_:\n",
    "* First Principles N-body Description ($N=\\int dV \\; n>10^{19}$)\n",
    "* Klimontovitch: conservation law on number of particles, plasma description as a whole\n",
    "* Kinetic: \"averages\" over all particles in a plasma -> distribution function $f_s$\n",
    "* Phase-space methods: neglecting collisions from Kinetic equation -> Vlasov-Boltzmann equation\n",
    "* Two-Fluid equations (\"average\" $f_s$ over velocity space)\n",
    "* Magnetohydrodynamics (single magnetized fluid)"
   ]
  },
  {
   "cell_type": "markdown",
   "id": "0e9b6bde",
   "metadata": {
    "slideshow": {
     "slide_type": "slide"
    }
   },
   "source": [
    "## Derivation of the Two Fluid Plasma Model\n",
    "* Macroscopic Maxwell's Equation constitute a closed system only if charge $\\rho$ and current densities $\\underline{J}$ are known.\n",
    "    * $\\rho$ and $\\underline{J}$ are functionals of the fields $\\underline{E}$ and $\\underline{B}$\n",
    "    * These quantities are related via the *constitutive relations*\n",
    "* In turn, the distribution function $f_s$ obey the Kinetic equation:"
   ]
  },
  {
   "cell_type": "markdown",
   "id": "1a60a083",
   "metadata": {
    "slideshow": {
     "slide_type": "fragment"
    }
   },
   "source": [
    "$$\n",
    "\\frac{\\partial f_s}{\\partial t}\n",
    "+ \\underline{v}\\cdot\\nabla f_s\n",
    "+ \\frac{e Z_s}{m_s} \\left(\\underline{E} + \\underline{v}\\times\\underline{B} \\right)\\cdot \\frac{\\partial f_s}{\\partial \\underline{v}} = C(f_s)\n",
    "$$\n",
    "* The relation between wave field $\\underline{E}$ and current density $\\underline{J}$ in the plasma should in principle be obtained by solving both Maxwell's equations *and* Kinetic equation: a highly non-linear problem! "
   ]
  },
  {
   "cell_type": "markdown",
   "id": "ec1e0748",
   "metadata": {
    "slideshow": {
     "slide_type": "subslide"
    }
   },
   "source": [
    "So, the basic idea with a Fluid Plasma model is to deal with averaged quantities rather than with the distribution function directly:\n",
    "* Individual particles identity is neglected\n",
    "* Only the motions of a few electrically charged and interpenetrated fluids are taken into account.\n",
    "* Ion and electron fluids interact with each other even in the absense of collisions (from $E$ and $B$)\n",
    "\n",
    "We will assume further that:\n",
    "* Plasma is made of 2 species: electrons and a single species of ion\n",
    "* $T_e \\neq T_i$ in general\n",
    "* Force field is from Electric and Magnetic field: $\\underline{F}=q(\\underline{E} + \\underline{v}\\times \\underline{B})$\n",
    "* Homogeneous temperature: $T$ is constant and $\\nabla T=0$\n",
    "* Neglect dissipative effects (collisionless plasma, ie $\\omega>>1/\\tau$ and thus $C(f)\\approx 0$), hence no entropy production on the considered time scales"
   ]
  },
  {
   "cell_type": "markdown",
   "id": "e0dad7bc",
   "metadata": {
    "slideshow": {
     "slide_type": "subslide"
    }
   },
   "source": [
    "### Definitions\n",
    "$\\rho$ and $\\underline{J}$ can be expressed as moments of the single particle distribution function $f_s(\\underline{r}, \\underline{v}, t)$ (properly normalized):\n",
    "\n",
    "* *fluid density*  $n$ for species $s$:\n",
    "\n",
    "$$\n",
    "n_s(\\underline{r}, t)\n",
    "=\n",
    "\\int d^3v \\; f_s(\\underline{r}, \\underline{v}, t)\n",
    "\\Longrightarrow\n",
    "\\rho(\\underline{r}, t) = \\sum_s |e| Z_s n_s\n",
    "$$"
   ]
  },
  {
   "cell_type": "markdown",
   "id": "1d091dab",
   "metadata": {
    "slideshow": {
     "slide_type": "fragment"
    }
   },
   "source": [
    "* *fluid velocity* $V$ for species $s$ (*different* from the kinetic velocity $v$) ($Z_e=-1$):\n",
    "\n",
    "$$\n",
    "n_s (\\underline{r}, t)\\underline{V_s}(\\underline{r}, t)\n",
    "=\n",
    "\\int d^3 v \\; \\underline{v} f_s(\\underline{r}, \\underline{v}, t)\n",
    "\\Longrightarrow\n",
    "\\underline{J}(\\underline{r}, t) = \\sum_s |e| Z_s n_s \\underline{V}_s\n",
    "$$"
   ]
  },
  {
   "cell_type": "markdown",
   "id": "014df52a",
   "metadata": {
    "slideshow": {
     "slide_type": "fragment"
    }
   },
   "source": [
    "* *fluid stress tensor*\n",
    "\n",
    "$$\n",
    "\\underline{\\underline{\\Phi_s}} (\\underline{r}, t)\n",
    "=\n",
    "\\int d^3v \\; m_s \\underline{v}\\underline{v} f_s(\\underline{r}, \\underline{v}, t)\n",
    "$$\n",
    "or, more usually, the *pressure stress tensor*:\n",
    "$$\n",
    "\\underline{\\underline{P_s}} (\\underline{r}, t)\n",
    "=\n",
    "\\int d^3v \\; m_s (\\underline{v} - \\underline{V}_s)(\\underline{v} - \\underline{V}_s) f_s(\\underline{r}, \\underline{v}, t)\n",
    "$$\n",
    "\n",
    "\n",
    "where the sum extends over electrons ($Z_e = -1$) and all ion species."
   ]
  },
  {
   "cell_type": "markdown",
   "id": "bea62404",
   "metadata": {
    "slideshow": {
     "slide_type": "subslide"
    }
   },
   "source": [
    "### Derivation of the fluid equations\n",
    "The starting point is the Vlasov Equation:\n",
    "$$\n",
    "\\frac{\\partial f_s}{\\partial t}\n",
    "+ \\underline{v}\\cdot\\nabla f_s\n",
    "+ \\frac{e Z_s}{m_s} \\left(\\underline{E} + \\underline{v}\\times\\underline{B} \\right)\\cdot \\frac{\\partial f_s}{\\partial \\underline{v}} = 0\n",
    "$$"
   ]
  },
  {
   "cell_type": "markdown",
   "id": "6c3dbf4e",
   "metadata": {
    "slideshow": {
     "slide_type": "subslide"
    }
   },
   "source": [
    "#### Density Conservation\n",
    "Integrating the Vlasov Equation on the velocity space $\\int d^3v$ leads to the *density conservation*:\n",
    "$$\n",
    "\\frac{\\partial n_s}{\\partial t} + \\nabla \\cdot (n_s \\underline{V}_s) = 0\n",
    "$$"
   ]
  },
  {
   "cell_type": "markdown",
   "id": "5df123e9",
   "metadata": {
    "slideshow": {
     "slide_type": "subslide"
    }
   },
   "source": [
    "#### Momentum Conservation\n",
    "Likewise, taking $\\int d^3  v\\;m_s \\underline{v}$ leads to the *momemtum conservation*:\n",
    "$$\n",
    "n_s m_s \\left(\n",
    "\\frac{\\partial \\underline{V}_s}{\\partial t} + (\\underline{V}_s\\cdot\\nabla)\\underline{V_s}\n",
    "\\right)\n",
    "=\n",
    "n_s q_s (\\underline{E} + \\underline{V}_s \\times \\underline{B})\n",
    "- \\nabla \\cdot \\underline{\\underline{\\Phi}}_s\n",
    "$$"
   ]
  },
  {
   "cell_type": "markdown",
   "id": "aeb1c45d",
   "metadata": {
    "slideshow": {
     "slide_type": "subslide"
    }
   },
   "source": [
    "#### What about the plasma fluid stress tensor?\n",
    "* To obtain the fluid stress tensor, likewise $\\int d^3v\\; \\underline{v}\\underline{v}$\n",
    "* Leads to a new equation for the energy that require the knowledge of the third order moment...\n",
    "* Within the fluid description, the system of equations is virtually infinite and one needs a *closure relation*.\n",
    "    * which expresses the higher moments as a function of the lower moments and known quantities\n",
    "* For cold plasma (or plasma with finite temperature or given pressure relation), we will see that the previous equations are however sufficient"
   ]
  },
  {
   "cell_type": "code",
   "execution_count": null,
   "id": "3a753b9a",
   "metadata": {},
   "outputs": [],
   "source": []
  }
 ],
 "metadata": {
  "celltoolbar": "Slideshow",
  "kernelspec": {
   "display_name": "Python 3 (ipykernel)",
   "language": "python",
   "name": "python3"
  },
  "language_info": {
   "codemirror_mode": {
    "name": "ipython",
    "version": 3
   },
   "file_extension": ".py",
   "mimetype": "text/x-python",
   "name": "python",
   "nbconvert_exporter": "python",
   "pygments_lexer": "ipython3",
   "version": "3.12.11"
  },
  "livereveal": {
   "autolaunch": true
  },
  "toc": {
   "base_numbering": 1,
   "nav_menu": {},
   "number_sections": true,
   "sideBar": true,
   "skip_h1_title": true,
   "title_cell": "Table of Contents",
   "title_sidebar": "Contents",
   "toc_cell": false,
   "toc_position": {
    "height": "calc(100% - 180px)",
    "left": "10px",
    "top": "150px",
    "width": "305.067px"
   },
   "toc_section_display": true,
   "toc_window_display": false
  }
 },
 "nbformat": 4,
 "nbformat_minor": 5
}
