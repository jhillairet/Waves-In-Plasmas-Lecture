{
 "cells": [
  {
   "cell_type": "markdown",
   "id": "300196d7",
   "metadata": {
    "slideshow": {
     "slide_type": "slide"
    }
   },
   "source": [
    "# Appendix: Laplace Transform"
   ]
  },
  {
   "cell_type": "markdown",
   "id": "88817fcd",
   "metadata": {
    "slideshow": {
     "slide_type": "subslide"
    }
   },
   "source": [
    "## Laplace Transform\n",
    "The [Laplace Transform](https://en.wikipedia.org/wiki/Laplace_transform) of the function $f$ is defined by:\n",
    "$$\n",
    "\\mathcal{L}\\left[f(t) \\right] (p) =  F(p) = \\int _{0}^{\\infty }f(t)e^{-p t}\\,dt\n",
    "$$\n",
    "where $p$ is a complex frequency parameter.\n",
    "\n",
    "Using the change of variable $p = - i\\omega$ ($\\omega$ complex) leads to: \n",
    "\n",
    "$$\n",
    "\\mathcal{L}\\left[f(t) \\right] (\\omega) = F (\\omega) = \\int_0^\\infty dt \\; e^{i\\omega t} f(t)\n",
    "$$\n",
    "This integral is defined only if:\n",
    "* $\\Im(\\omega)>0$ (as $t>0$)\n",
    "* $f(t)$ is a locally integrable function that decay at infinity, like, of exponential type $ |f(t)|\\leq A e^{B|t|}$ \n"
   ]
  },
  {
   "cell_type": "markdown",
   "id": "158c81ec",
   "metadata": {
    "slideshow": {
     "slide_type": "subslide"
    }
   },
   "source": [
    "## Inverse Laplace Transform\n",
    "<img src=\"figures/Bromwich_contour_p.png\" align=\"right\" width=\"400\"/>\n",
    "The [inverse Laplace transform](https://en.wikipedia.org/wiki/Inverse_Laplace_transform) is defined by:\n",
    "$$\n",
    "f(t) \n",
    "= \\mathcal{L}^{-1}\\{F(p)\\}(t)\n",
    "={\\frac {1}{2\\pi i}} \\int _{\\sigma -i\\infty}^{\\sigma +i\\infty}e^{p t} F(p)\\,dp\n",
    "$$\n",
    "where integration is performed along the vertical line $\\Re(p) = \\sigma$ in the complex plane such that:\n",
    "\n",
    "* $\\sigma$ is greater than the real part of all singularities of $F(p)$\n",
    "* and $F(p)$ is bounded on the line, for example if the contour path is in the region of convergence.\n",
    "\n",
    "Otherwise the line is arbitrary. \n",
    "\n",
    "If all singularities are in the left half-plane, or $F(p)$ is an entire function , then $\\sigma$ can be set to zero and the above inverse integral formula becomes identical to the inverse Fourier transform. \n"
   ]
  },
  {
   "cell_type": "markdown",
   "id": "d010e999",
   "metadata": {
    "slideshow": {
     "slide_type": "fragment"
    }
   },
   "source": [
    "* The inverse Laplace Transform is an integral over a vertical line in the complex plane. \n",
    "* It is not a closed contour integral by definition.\n",
    "* However we can use a closed contour integral in the complex plane (like the *[Bromwich contour](https://solitaryroad.com/c916.html)*) where a piece of which is the vertical line along which the inverse Laplace transform is defined\n",
    "* Then, the [Residues theorem](https://en.wikipedia.org/wiki/Residue_theorem) provides a means of computing such complex contour integral."
   ]
  },
  {
   "cell_type": "markdown",
   "id": "45f06ca5",
   "metadata": {
    "slideshow": {
     "slide_type": "subslide"
    }
   },
   "source": [
    "<img src=\"figures/Bromwich_contour_w.png\" align=\"right\" width=\"400\"/>\n",
    "Using the change of variable $p = - i\\omega$ ($\\omega$ complex) leads to: \n",
    "$$\n",
    "\\mathcal{L}^{-1}\\left[F(\\omega) \\right] (t) = \\int^{\\infty + i \\sigma}_{-\\infty + i \\sigma} \\frac{d\\omega}{2\\pi} \\; e^{-i \\omega t} F(\\omega)\n",
    "$$\n"
   ]
  },
  {
   "cell_type": "markdown",
   "id": "826eae3e",
   "metadata": {
    "slideshow": {
     "slide_type": "subslide"
    }
   },
   "source": [
    "## Properties\n",
    "### Laplace transform of a time derivative\n",
    "$$\n",
    "\\mathcal{L}\\left[ \\frac{\\partial f(t)}{\\partial t} \\right](\\omega)\n",
    "=\n",
    "- f(t=0) \n",
    "-i\\omega \\mathcal{L}\\left[ f(t) \\right](\\omega) \n",
    "$$"
   ]
  },
  {
   "cell_type": "code",
   "execution_count": null,
   "id": "351f54c1",
   "metadata": {},
   "outputs": [],
   "source": []
  }
 ],
 "metadata": {
  "celltoolbar": "Slideshow",
  "kernelspec": {
   "display_name": "Python 3 (ipykernel)",
   "language": "python",
   "name": "python3"
  },
  "language_info": {
   "codemirror_mode": {
    "name": "ipython",
    "version": 3
   },
   "file_extension": ".py",
   "mimetype": "text/x-python",
   "name": "python",
   "nbconvert_exporter": "python",
   "pygments_lexer": "ipython3",
   "version": "3.10.6"
  },
  "livereveal": {
   "autolaunch": true
  },
  "toc": {
   "base_numbering": 1,
   "nav_menu": {},
   "number_sections": true,
   "sideBar": true,
   "skip_h1_title": true,
   "title_cell": "Table of Contents",
   "title_sidebar": "Contents",
   "toc_cell": false,
   "toc_position": {},
   "toc_section_display": true,
   "toc_window_display": false
  }
 },
 "nbformat": 4,
 "nbformat_minor": 5
}
