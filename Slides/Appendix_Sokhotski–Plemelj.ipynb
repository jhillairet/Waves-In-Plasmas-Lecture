{
 "cells": [
  {
   "cell_type": "markdown",
   "id": "300196d7",
   "metadata": {
    "slideshow": {
     "slide_type": "slide"
    }
   },
   "source": [
    "# Appendix: Sokhotski–Plemelj Theorem\n",
    "sources:\n",
    "* https://en.wikipedia.org/wiki/Sokhotski%E2%80%93Plemelj_theorem\n",
    "* https://prefetch.eu/know/concept/sokhotski-plemelj-theorem/"
   ]
  },
  {
   "cell_type": "markdown",
   "id": "01dac351",
   "metadata": {
    "slideshow": {
     "slide_type": "slide"
    }
   },
   "source": [
    "## Complex Version\n",
    "Let\n",
    "$$\n",
    "\\phi(z) = \\frac{1}{2\\pi i} \\oint_\\mathcal{C} \\frac{f(\\xi)}{\\xi - z} \\; d\\xi\n",
    "$$\n",
    "Where $\\mathcal{C}$ is a closed countour, so,\n",
    "$$\n",
    "\\lim_{u \\to z} \\phi(u)\n",
    "=\n",
    "\\lim_{u \\to z}\n",
    "\\frac{1}{2\\pi i} \\oint_\\mathcal{C} \\frac{f(\\xi)}{\\xi - u} \\; d\\xi\n",
    "=\n",
    "\\frac{1}{2\\pi i} \\mathcal{P} \\oint_\\mathcal{C} \\frac{f(\\xi)}{\\xi - z} \\; d\\xi\n",
    "\\pm \\frac{f(z)}{2}\n",
    "$$\n",
    "Where the sign is positive if $z$ is inside $\\mathcal{C}$, and negative if it is outside. "
   ]
  },
  {
   "cell_type": "markdown",
   "id": "7857bbd3",
   "metadata": {
    "slideshow": {
     "slide_type": "subslide"
    }
   },
   "source": [
    "## Real Version\n",
    "The real version follows by letting $\\mathcal{C}$ follow the whole real axis, making $\\mathcal{C}$ an infinitely large semicircle, so that the integrand vanishes away from the real axis, because $1/(ζ ⁣− ⁣z) \\to 0$ for $∣ζ∣→∞∣ζ∣→∞$. \n",
    "\n",
    "$$\n",
    "\\lim_{\\epsilon \\to 0^+}\n",
    "\\int_a^b \\frac{f(x)}{x - x_0 \\pm i\\epsilon} \\; dx\n",
    "=\n",
    "\\mathcal{P} \\int_a^b \\frac{f(x)}{x - x_0 } \\; dx\n",
    "\\mp i \\pi f(x_0)\n",
    "$$"
   ]
  },
  {
   "cell_type": "markdown",
   "id": "75b0d54a",
   "metadata": {
    "slideshow": {
     "slide_type": "subslide"
    }
   },
   "source": [
    "## Application to the plasma dispersion integral\n",
    "Let $\\omega = \\omega_R + i \\epsilon$ with $\\epsilon\\to 0^+$:\n",
    "$$\n",
    "\\lim_{\\Im(\\omega) \\to 0^+}\n",
    "\\int_{-\\infty}^{+\\infty} \n",
    "\\frac{g(v)}{\\omega - kv} \\; dx\n",
    "=\n",
    "\\mathcal{P} \n",
    "\\int_{-\\infty}^{+\\infty} \n",
    "\\frac{g(v)}{\\omega_R - kv} \\; dx\n",
    "- i \\frac{\\pi}{k} g\\left(\\frac{\\omega_R}{k}\\right)\n",
    "$$\n"
   ]
  }
 ],
 "metadata": {
  "celltoolbar": "Slideshow",
  "kernelspec": {
   "display_name": "Python 3 (ipykernel)",
   "language": "python",
   "name": "python3"
  },
  "language_info": {
   "codemirror_mode": {
    "name": "ipython",
    "version": 3
   },
   "file_extension": ".py",
   "mimetype": "text/x-python",
   "name": "python",
   "nbconvert_exporter": "python",
   "pygments_lexer": "ipython3",
   "version": "3.10.13"
  },
  "livereveal": {
   "autolaunch": true
  },
  "toc": {
   "base_numbering": 1,
   "nav_menu": {},
   "number_sections": true,
   "sideBar": true,
   "skip_h1_title": true,
   "title_cell": "Table of Contents",
   "title_sidebar": "Contents",
   "toc_cell": false,
   "toc_position": {},
   "toc_section_display": true,
   "toc_window_display": false
  }
 },
 "nbformat": 4,
 "nbformat_minor": 5
}
