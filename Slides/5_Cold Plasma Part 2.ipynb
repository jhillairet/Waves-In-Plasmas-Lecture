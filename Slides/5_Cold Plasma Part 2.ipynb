{
 "cells": [
  {
   "cell_type": "markdown",
   "id": "b746566c",
   "metadata": {
    "slideshow": {
     "slide_type": "slide"
    }
   },
   "source": [
    "# Waves in Cold Magnetized Plasma (Part 2)"
   ]
  },
  {
   "cell_type": "code",
   "execution_count": 316,
   "id": "efbc7787",
   "metadata": {
    "slideshow": {
     "slide_type": "subslide"
    }
   },
   "outputs": [],
   "source": [
    "import plasmapy as pp\n",
    "import astropy.units as u\n",
    "import matplotlib.pyplot as plt\n",
    "import numpy as np\n",
    "from scipy.constants import c"
   ]
  },
  {
   "cell_type": "markdown",
   "id": "f5ae8170",
   "metadata": {
    "slideshow": {
     "slide_type": "fragment"
    }
   },
   "source": [
    "## Summary of the Previous Lecture\n",
    "* 2 main classes of models are available to describe the plasma response to the wave field: *fluid* models and *kinetic* models\n",
    "* *Cold plasmas* are described by setting the temperature/pressure to 0 in the fluid equations\n",
    "    * This allows the Stix dielectric tensor for cold plasmas to be computed\n",
    "    * (it can also be done in the framework of the kinetic theory.) \n",
    "* The wave equation and *dispersion relation* reveal 2 waves (or *modes*)\n",
    "    * each either propagative ($k^2 > 0$) or evanescent ($k^2 < 0$)"
   ]
  },
  {
   "cell_type": "markdown",
   "id": "8e36aa92",
   "metadata": {
    "slideshow": {
     "slide_type": "subslide"
    }
   },
   "source": [
    "### Formulary\n",
    "#### Fluid Density Conservation\n",
    "$$\n",
    "\\frac{\\partial n_s}{\\partial t} + \\nabla \\cdot (n_s \\underline{V_s}) = 0\n",
    "$$\n",
    "\n",
    "#### Fluid Momentum Conservation\n",
    "$$\n",
    "n_s m_s \\left(\n",
    "\\frac{\\partial \\underline{V_s}}{\\partial t} + (\\underline{V}_s\\cdot\\nabla)\\underline{V_s}\n",
    "\\right)\n",
    "=\n",
    "n_s q_s (\\underline{E} + \\underline{V_s} \\times \\underline{B})\n",
    "- \\nabla \\cdot \\underline{\\underline{\\Phi_s}}\n",
    "$$"
   ]
  },
  {
   "cell_type": "markdown",
   "id": "fc2f2832",
   "metadata": {
    "slideshow": {
     "slide_type": "subslide"
    }
   },
   "source": [
    "#### Wave Equation and Dispersion Relation\n",
    "$$\n",
    "\\underline{\\underline{M}} \\cdot \\underline{E} = \\underline{0}\n",
    "$$\n",
    "with \n",
    "$$\n",
    "\\underline{\\underline{M}} = k^2 \\underline{\\underline{I}} - \\frac{\\omega^2}{c^2} \\underline{\\underline{K}} - \\underline{k}\\underline{k}\n",
    "$$\n",
    "The non trivial solution of the previous equation is obtained for $\\det\\underline{\\underline{M}}=0$ which can be solved for $\\omega(\\underline{k})$, the *dispersion relation*.\n"
   ]
  },
  {
   "cell_type": "markdown",
   "id": "fe3717de",
   "metadata": {
    "slideshow": {
     "slide_type": "subslide"
    }
   },
   "source": [
    "#### Cold Dielectric Tensor\n",
    "$$\n",
    "\\underline{\\underline{\\varepsilon}} \n",
    "= \\varepsilon_0 \\underline{\\underline{K}} \n",
    "= \\varepsilon_0 \\left(\\underline{\\underline{I}} + \\frac{i}{\\omega \\varepsilon_0} \\underline{\\underline{\\sigma}}\\right) \n",
    "$$\n",
    "with the traditionnal notation (*Stix tensor*):\n",
    "$$\n",
    "\\underline{\\underline{K}} \n",
    "= \n",
    "\\left(\n",
    "\\begin{matrix}\n",
    "S & -iD & 0 \\\\\n",
    "iD & S & 0 \\\\\n",
    "0 & 0 & P\n",
    "\\end{matrix}\n",
    "\\right)\n",
    "$$\n",
    "with\n",
    "$$\n",
    "S = \\frac{1}{2}(R + L) = 1 - \\sum_s \\frac{\\omega_{ps}^2}{\\omega^2 - \\Omega_{s}^2}\n",
    "$$\n",
    "$$\n",
    "D = \\frac{1}{2}(R - L) = \\sum_s \\frac{\\omega_{ps}^2}{\\omega} \\frac{\\Omega_s}{\\omega^2 - \\Omega_{s}^2}\n",
    "$$\n",
    "$$\n",
    "P = 1 - \\sum_s \\frac{\\omega_{ps}^2}{\\omega^2}\n",
    "$$\n",
    "where $S$ stands for \"sum\", $D$ for \"difference\" and $P$ for \"Plasma\". \n",
    "\n",
    "* We also have:\n",
    "$$\n",
    "R = 1 - \\sum_s \\frac{\\omega_{ps}^2}{\\omega(\\omega + \\Omega_s)}\n",
    "$$\n",
    "$$\n",
    "L = 1 - \\sum_s \\frac{\\omega_{ps}^2}{\\omega(\\omega - \\Omega_s)}\n",
    "$$\n",
    "The $R$ and $L$ terms arise in a derivation based on expressing the field in terms of rotating polarizations (\"right\" and \"left\") rather than the direct Cartesian approach (Stix frame).\n",
    "\n",
    "* Once the dispersion relation is solved, it yields the polarization of the wave mode."
   ]
  },
  {
   "cell_type": "markdown",
   "id": "af417143",
   "metadata": {
    "slideshow": {
     "slide_type": "subslide"
    }
   },
   "source": [
    "### Terminology\n",
    "* *Perpendicular* or *Parallel* propagation, with respect to the confining magnetic field $\\underline{B_0}$ \n",
    "* Waves are said to be:\n",
    "    * *Longitudinal* if $\\underline{E} \\parallel \\underline{k}$\n",
    "    * *Transverse* if $\\underline{E} \\cdot \\underline{k} = 0$ (i.e. $\\underline{E} \\perp \\underline{k}$)    "
   ]
  },
  {
   "cell_type": "markdown",
   "id": "2ac8f7b9",
   "metadata": {
    "slideshow": {
     "slide_type": "slide"
    }
   },
   "source": [
    "## Parallel Propagation: $\\underline{k}=k\\underline{\\hat{z}}$ ($\\theta = 0$)"
   ]
  },
  {
   "cell_type": "code",
   "execution_count": 302,
   "id": "52994695",
   "metadata": {
    "slideshow": {
     "slide_type": "subslide"
    }
   },
   "outputs": [],
   "source": [
    "w = 2*np.pi*np.logspace(5.5, 11, 10001) * u.rad / u.s\n",
    "ni = [1e18] * u.m**-3\n",
    "B0 = 2 * u.T\n",
    "theta = 0 * u.deg\n",
    "ions = ['p']\n",
    "\n",
    "inputs = {\n",
    "    \"B\": B0,\n",
    "    \"w\": w,\n",
    "    \"ions\": ions,\n",
    "    \"n_i\": ni,\n",
    "    \"theta\": 0 * u.deg,\n",
    "}\n",
    "\n",
    "k =  pp.dispersion.analytical.stix(**inputs)\n",
    "n_perp = (k.T /(w/c) )**2  # n^2 = (k/k0)^2"
   ]
  },
  {
   "cell_type": "code",
   "execution_count": 303,
   "id": "6f9d1e97",
   "metadata": {
    "slideshow": {
     "slide_type": "subslide"
    }
   },
   "outputs": [],
   "source": [
    "def filter_negative_and_positive_values(arr):\n",
    "    \"\"\"\n",
    "    Return an array with only negative values of ``arr``\n",
    "    and an array with only positive values of ``arr``.\n",
    "    Each element of these arrays that does not meet the\n",
    "    condition are replaced with `~numpy.nan`.\n",
    "    \"\"\"\n",
    "    arr_neg = np.ma.masked_greater_equal(arr, 0).filled(np.nan)\n",
    "    arr_pos = np.ma.masked_less_equal(arr, 0).filled(np.nan)\n",
    "    return arr_neg, arr_pos"
   ]
  },
  {
   "cell_type": "code",
   "execution_count": 304,
   "id": "7c21bd6a",
   "metadata": {
    "slideshow": {
     "slide_type": "-"
    }
   },
   "outputs": [],
   "source": [
    "# filtering negative and positive n^2 for convenience plotting in loglog\n",
    "n_sq_neg1, n_sq_pos1 = filter_negative_and_positive_values(n_perp[0,:])\n",
    "n_sq_neg2, n_sq_pos2 = filter_negative_and_positive_values(n_perp[3,:])"
   ]
  },
  {
   "cell_type": "code",
   "execution_count": 305,
   "id": "469dd9f1",
   "metadata": {
    "slideshow": {
     "slide_type": "-"
    }
   },
   "outputs": [],
   "source": [
    "# Some particular quantities\n",
    "v_a = pp.formulary.Alfven_speed(B0, ni, 'p')\n",
    "Omega_i = pp.formulary.frequencies.gyrofrequency(B0, 'p')\n",
    "Omega_e = pp.formulary.frequencies.gyrofrequency(B0, 'e-')\n",
    "omega_pi = pp.formulary.frequencies.plasma_frequency(ni, 'p')\n",
    "omega_pe = pp.formulary.frequencies.plasma_frequency(ni, 'e-')\n",
    "omega_p = np.sqrt(omega_pi**2 + omega_pe**2)\n",
    "omega_L = (Omega_i-Omega_e)/2 + np.sqrt(((Omega_i + Omega_e)/2)**2 + omega_p**2)\n",
    "omega_R = (Omega_e-Omega_i)/2 + np.sqrt(((Omega_i + Omega_e)/2)**2 + omega_p**2)"
   ]
  },
  {
   "cell_type": "code",
   "execution_count": 306,
   "id": "ce2c2666",
   "metadata": {
    "slideshow": {
     "slide_type": "subslide"
    }
   },
   "outputs": [
    {
     "data": {
      "text/plain": [
       "(1000000.0, 100000000000.0)"
      ]
     },
     "execution_count": 306,
     "metadata": {},
     "output_type": "execute_result"
    },
    {
     "data": {
      "image/png": "[encoded data removed]",
      "text/plain": [
       "<Figure size 640x480 with 1 Axes>"
      ]
     },
     "metadata": {},
     "output_type": "display_data"
    }
   ],
   "source": [
    "fig, ax = plt.subplots()\n",
    "ax.axhline(1, color='k', ls='--')\n",
    "ax.axhline((c/v_a.value)**2, color='gray', ls='--')\n",
    "ax.axvline(Omega_i.value, color='gray', ls='--')\n",
    "ax.axvline(Omega_e.value, color='gray', ls='--')\n",
    "ax.axvline(omega_L.value, color='blue', ls='--')\n",
    "ax.axvline(omega_R.value, color='red', ls='--')\n",
    "ax.loglog(w, np.abs(n_sq_pos1), lw=2)\n",
    "ax.loglog(w, np.abs(n_sq_neg1), lw=2, color='C0', ls='--')\n",
    "ax.loglog(w, np.abs(n_sq_pos2), lw=2)\n",
    "ax.loglog(w, np.abs(n_sq_neg2), lw=2, color='C1', ls='--')\n",
    "ax.set_ylim(0.1, 300)\n",
    "ax.set_xlim(1e6, 1e11)"
   ]
  },
  {
   "cell_type": "code",
   "execution_count": 307,
   "id": "cb3985e5",
   "metadata": {
    "slideshow": {
     "slide_type": "subslide"
    }
   },
   "outputs": [
    {
     "data": {
      "text/plain": [
       "(300000000000.0, 400000000000.0)"
      ]
     },
     "execution_count": 307,
     "metadata": {},
     "output_type": "execute_result"
    },
    {
     "data": {
      "image/png": "[encoded data removed]",
      "text/plain": [
       "<Figure size 640x480 with 1 Axes>"
      ]
     },
     "metadata": {},
     "output_type": "display_data"
    }
   ],
   "source": [
    "fig, ax = plt.subplots()\n",
    "ax.axhline(1, color='k', ls='--')\n",
    "ax.axhline((c/v_a.value)**2, color='gray', ls='--')\n",
    "ax.axvline(Omega_i.value, color='gray', ls='--')\n",
    "ax.axvline(Omega_e.value, color='gray', ls='--')\n",
    "ax.axvline(omega_L.value, color='blue', ls='--')\n",
    "ax.axvline(omega_R.value, color='red', ls='--')\n",
    "ax.loglog(w, np.abs(n_sq_pos1), lw=2)\n",
    "ax.loglog(w, np.abs(n_sq_neg1), lw=2, color='C0', ls='--')\n",
    "ax.loglog(w, np.abs(n_sq_pos2), lw=2)\n",
    "ax.loglog(w, np.abs(n_sq_neg2), lw=2, color='C1', ls='--')\n",
    "ax.set_ylim(0.1, 300)\n",
    "ax.set_xlim(3e11, 4e11)"
   ]
  },
  {
   "cell_type": "markdown",
   "id": "8cd30091",
   "metadata": {
    "slideshow": {
     "slide_type": "slide"
    }
   },
   "source": [
    "## Perpendicular Propagation: $\\underline{k}=k\\underline{\\hat{x}}$"
   ]
  },
  {
   "cell_type": "code",
   "execution_count": 312,
   "id": "ecaade64",
   "metadata": {
    "slideshow": {
     "slide_type": "subslide"
    }
   },
   "outputs": [],
   "source": [
    "w = 2*np.pi*np.logspace(7, 11, 10001) * u.rad / u.s\n",
    "ni = [1e18] * u.m**-3\n",
    "B0 = 2 * u.T\n",
    "theta = 0 * u.deg\n",
    "ions = ['p']\n",
    "\n",
    "inputs = {\n",
    "    \"B\": B0,\n",
    "    \"w\": w,\n",
    "    \"ions\": ions,\n",
    "    \"n_i\": ni,\n",
    "    \"theta\": 90 * u.deg,\n",
    "}\n",
    "\n",
    "k =  pp.dispersion.analytical.stix(**inputs)\n",
    "n_perp = (k.T /(w/c) )**2  # n^2 = (k/k0)^2"
   ]
  },
  {
   "cell_type": "code",
   "execution_count": 309,
   "id": "6fc8dc1b",
   "metadata": {
    "slideshow": {
     "slide_type": "-"
    }
   },
   "outputs": [],
   "source": [
    "# filtering negative and positive n^2 for convenience plotting in loglog\n",
    "n_sq_neg1, n_sq_pos1 = filter_negative_and_positive_values(n_perp[0,:])\n",
    "n_sq_neg2, n_sq_pos2 = filter_negative_and_positive_values(n_perp[3,:])"
   ]
  },
  {
   "cell_type": "code",
   "execution_count": 310,
   "id": "dd538441",
   "metadata": {
    "slideshow": {
     "slide_type": "-"
    }
   },
   "outputs": [],
   "source": [
    "# Some particular quantities\n",
    "v_a = pp.formulary.Alfven_speed(B0, ni, 'p')\n",
    "Omega_i = pp.formulary.frequencies.gyrofrequency(B0, 'p')\n",
    "Omega_e = pp.formulary.frequencies.gyrofrequency(B0, 'e-')\n",
    "omega_pi = pp.formulary.frequencies.plasma_frequency(ni, 'p')\n",
    "omega_pe = pp.formulary.frequencies.plasma_frequency(ni, 'e-')\n",
    "omega_p = np.sqrt(omega_pi**2 + omega_pe**2)"
   ]
  },
  {
   "cell_type": "code",
   "execution_count": 315,
   "id": "ec1f9053",
   "metadata": {
    "slideshow": {
     "slide_type": "subslide"
    }
   },
   "outputs": [
    {
     "data": {
      "text/plain": [
       "(0.1, 1000.0)"
      ]
     },
     "execution_count": 315,
     "metadata": {},
     "output_type": "execute_result"
    },
    {
     "data": {
      "image/png": "[encoded data removed]",
      "text/plain": [
       "<Figure size 640x480 with 1 Axes>"
      ]
     },
     "metadata": {},
     "output_type": "display_data"
    }
   ],
   "source": [
    "fig, ax = plt.subplots()\n",
    "ax.axhline(1, color='k', ls='--')\n",
    "ax.axhline((c/v_a.value)**2, color='gray', ls='--')\n",
    "ax.axvline(Omega_i.value, color='gray', ls='--')\n",
    "ax.axvline(Omega_e.value, color='gray', ls='--')\n",
    "ax.axvline(omega_pi.value, color='green', ls='--')\n",
    "ax.axvline(omega_pe.value, color='green', ls='--')\n",
    "ax.loglog(w, np.abs(n_sq_pos1), lw=2)\n",
    "ax.loglog(w, np.abs(n_sq_neg1), lw=2, color='C0', ls='--')\n",
    "ax.loglog(w, np.abs(n_sq_pos2), lw=2)\n",
    "ax.loglog(w, np.abs(n_sq_neg2), lw=2, color='C1', ls='--')\n",
    "ax.set_ylim(bottom=0.1, top=1e3)"
   ]
  },
  {
   "cell_type": "markdown",
   "id": "f3f910cc",
   "metadata": {
    "slideshow": {
     "slide_type": "slide"
    }
   },
   "source": [
    "## Arbitrary Propagation Angle\n",
    "* The case of arbitrary propagation angle with respect to the confining magnetic field direction is conceptually similar\n",
    "    * always two distincts modes in a cold plasma \n",
    "    * but more difficult to treat analytically.\n",
    "* When the propagation angle varies from perpendicular to parallel:\n",
    "    * X-mode transforms in one of the two whistler modes\n",
    "    * and O-mode becomes the other whistler\n",
    "* In some particular cases, however, an analytical treatment is possible"
   ]
  },
  {
   "cell_type": "markdown",
   "id": "8a62f5c2",
   "metadata": {
    "slideshow": {
     "slide_type": "subslide"
    }
   },
   "source": [
    "### Intermediate range of frequencies\n",
    "When \n",
    "$$ \\Omega_i, \\omega_{pi} \\ll \\omega \\ll |\\Omega_e|, \\omega_{pe} $$\n",
    "Using $n_\\perp^2 = n^2 - n_\\parallel^2$, the two solutions of the dispersion relation can be written approximatively as:\n",
    "$$\n",
    "n_{\\perp, F}^2 = - \\frac{(n_\\parallel^2 - R)(n_\\parallel^2 - L}{n_\\parallel^2 - S}\n",
    "$$\n",
    "and\n",
    "$$\n",
    "n_{\\perp, S}^2 = - \\frac{P}{S} (n^2_\\parallel - S)\n",
    "$$\n",
    "Where the labels $S$ and $F$ stands for \"Slow\" and \"Fast\":\n",
    "* generally $n_{\\perp, S} \\gg n_{\\perp, F}$\n",
    "* so the phase velocities ($v_\\phi = c/n$) of the slow wave is smaller than the phase velocity of the fast wave\n",
    "* hence their names\n",
    "\n",
    "* $n_{\\perp, S}^2 \\to \\infty$ for $S\\to 0$: *lower hybrid resonance*\n",
    "* Its associated polarization is $E_x/E_z \\approx n_\\perp / n_\\parallel = \\sqrt{-P/S}$ which shows that $\\underline{E}$ is parallel to $\\underline{k}$ ($\\underline{n_\\perp} = \\underline{n} \\cdot \\underline{\\hat{x}}$ per def) and the wave becomes electrostatic as it approaches the resonance.\n",
    "\n"
   ]
  },
  {
   "cell_type": "markdown",
   "id": "268a1c99",
   "metadata": {
    "slideshow": {
     "slide_type": "subslide"
    }
   },
   "source": [
    "### Alfvèn Waves"
   ]
  },
  {
   "cell_type": "code",
   "execution_count": null,
   "id": "c04db96f",
   "metadata": {},
   "outputs": [],
   "source": []
  }
 ],
 "metadata": {
  "celltoolbar": "Slideshow",
  "kernelspec": {
   "display_name": "Python 3 (ipykernel)",
   "language": "python",
   "name": "python3"
  },
  "language_info": {
   "codemirror_mode": {
    "name": "ipython",
    "version": 3
   },
   "file_extension": ".py",
   "mimetype": "text/x-python",
   "name": "python",
   "nbconvert_exporter": "python",
   "pygments_lexer": "ipython3",
   "version": "3.10.6"
  },
  "livereveal": {
   "autolaunch": true
  },
  "toc": {
   "base_numbering": 1,
   "nav_menu": {},
   "number_sections": true,
   "sideBar": true,
   "skip_h1_title": true,
   "title_cell": "Table of Contents",
   "title_sidebar": "Contents",
   "toc_cell": false,
   "toc_position": {
    "height": "calc(100% - 180px)",
    "left": "10px",
    "top": "150px",
    "width": "428.8px"
   },
   "toc_section_display": true,
   "toc_window_display": false
  }
 },
 "nbformat": 4,
 "nbformat_minor": 5
}
